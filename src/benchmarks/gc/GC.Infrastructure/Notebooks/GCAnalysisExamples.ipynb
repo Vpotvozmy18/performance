{
 "cells": [
  {
   "attachments": {},
   "cell_type": "markdown",
   "metadata": {},
   "source": [
    "# Usage of GC.Analysis.API for GC Analysis"
   ]
  },
  {
   "cell_type": "code",
   "execution_count": 2,
   "metadata": {
    "dotnet_interactive": {
     "language": "csharp"
    },
    "vscode": {
     "languageId": "polyglot-notebook"
    }
   },
   "outputs": [
    {
     "data": {
      "text/html": [
       "<div><div></div><div></div><div><strong>Installed Packages</strong><ul><li><span>Microsoft.Data.Analysis, 0.20.1</span></li><li><span>Microsoft.Diagnostics.Tracing.TraceEvent, 3.1.3</span></li><li><span>Microsoft.Playwright, 1.16.0</span></li><li><span>Newtonsoft.Json, 13.0.3</span></li><li><span>XPlot.Plotly, 4.0.6</span></li><li><span>XPlot.Plotly.Interactive, 4.0.7</span></li></ul></div></div>"
      ]
     },
     "metadata": {},
     "output_type": "display_data"
    },
    {
     "data": {
      "text/plain": [
       "Loading extensions from `C:\\Users\\musharm\\.nuget\\packages\\xplot.plotly.interactive\\4.0.7\\interactive-extensions\\dotnet\\XPlot.Plotly.Interactive.dll`"
      ]
     },
     "metadata": {},
     "output_type": "display_data"
    },
    {
     "data": {
      "text/markdown": [
       "Configuring PowerShell Kernel for XPlot.Plotly integration."
      ]
     },
     "metadata": {},
     "output_type": "display_data"
    },
    {
     "data": {
      "text/markdown": [
       "Installed support for XPlot.Plotly."
      ]
     },
     "metadata": {},
     "output_type": "display_data"
    },
    {
     "data": {
      "text/plain": [
       "Loading extensions from `C:\\Users\\musharm\\.nuget\\packages\\microsoft.data.analysis\\0.20.1\\interactive-extensions\\dotnet\\Microsoft.Data.Analysis.Interactive.dll`"
      ]
     },
     "metadata": {},
     "output_type": "display_data"
    }
   ],
   "source": [
    "#r \"nuget: Microsoft.Diagnostics.Tracing.TraceEvent\"\n",
    "#r \"nuget: XPlot.Plotly\"\n",
    "#r \"nuget: XPlot.Plotly.Interactive\"\n",
    "#r \"nuget: Microsoft.Data.Analysis\"\n",
    "#r \"nuget: Newtonsoft.Json\"\n",
    "#r \"nuget: Microsoft.Playwright, 1.16.0\"\n",
    "\n",
    "using Etlx = Microsoft.Diagnostics.Tracing.Etlx;\n",
    "using Microsoft.Data.Analysis;\n",
    "using Microsoft.Diagnostics.Tracing.Analysis.GC;\n",
    "using Microsoft.Diagnostics.Tracing.Analysis;\n",
    "using Microsoft.Diagnostics.Tracing.Parsers.Clr;\n",
    "using Microsoft.Diagnostics.Tracing;\n",
    "using XPlot.Plotly;\n",
    "\n",
    "using System.IO;\n",
    "using Newtonsoft.Json;"
   ]
  },
  {
   "attachments": {},
   "cell_type": "markdown",
   "metadata": {},
   "source": [
    "## Building and Using The GC Analysis API"
   ]
  },
  {
   "cell_type": "code",
   "execution_count": null,
   "metadata": {
    "dotnet_interactive": {
     "language": "pwsh"
    },
    "vscode": {
     "languageId": "polyglot-notebook"
    }
   },
   "outputs": [],
   "source": [
    "dotnet build .\\GC.Analysis.API"
   ]
  },
  {
   "cell_type": "code",
   "execution_count": 1,
   "metadata": {
    "dotnet_interactive": {
     "language": "csharp"
    },
    "vscode": {
     "languageId": "polyglot-notebook"
    }
   },
   "outputs": [],
   "source": [
    "#r \"../GC.Analysis.API/bin/Debug/net6.0/GC.Analysis.API.dll\"\n",
    "\n",
    "using GC.Analysis.API;"
   ]
  },
  {
   "attachments": {},
   "cell_type": "markdown",
   "metadata": {},
   "source": [
    "## Creating the Analyzer"
   ]
  },
  {
   "cell_type": "code",
   "execution_count": 11,
   "metadata": {
    "dotnet_interactive": {
     "language": "csharp"
    },
    "vscode": {
     "languageId": "polyglot-notebook"
    }
   },
   "outputs": [],
   "source": [
    "var TRACE_PATH  = @\".\\Traces\\vs-gccollectonly.etl.zip\";\n",
    "var BASE_PATH   = @\".\\Traces\\\";"
   ]
  },
  {
   "attachments": {},
   "cell_type": "markdown",
   "metadata": {},
   "source": [
    "### Get All Analyzers From Multiple Trace Paths"
   ]
  },
  {
   "cell_type": "code",
   "execution_count": 12,
   "metadata": {
    "dotnet_interactive": {
     "language": "csharp"
    },
    "vscode": {
     "languageId": "polyglot-notebook"
    }
   },
   "outputs": [],
   "source": [
    "Dictionary<string, Analyzer> gcTraceData = AnalyzerManager.GetAnalyzer(tracePaths: new[] { TRACE_PATH });"
   ]
  },
  {
   "attachments": {},
   "cell_type": "markdown",
   "metadata": {},
   "source": [
    "### Get All Analyzers From a Base Path"
   ]
  },
  {
   "cell_type": "code",
   "execution_count": 5,
   "metadata": {
    "dotnet_interactive": {
     "language": "csharp"
    },
    "vscode": {
     "languageId": "polyglot-notebook"
    }
   },
   "outputs": [],
   "source": [
    "Dictionary<string, Analyzer> gcTraceData = AnalyzerManager.GetAllAnalyzers(BASE_PATH);"
   ]
  },
  {
   "attachments": {},
   "cell_type": "markdown",
   "metadata": {},
   "source": [
    "### Get Analyzer From a Single Path"
   ]
  },
  {
   "attachments": {},
   "cell_type": "markdown",
   "metadata": {},
   "source": [
    "#### Get All Processes From a Trace"
   ]
  },
  {
   "cell_type": "code",
   "execution_count": null,
   "metadata": {
    "dotnet_interactive": {
     "language": "csharp"
    },
    "vscode": {
     "languageId": "polyglot-notebook"
    }
   },
   "outputs": [],
   "source": [
    "Analyzer gcTraceData = new Analyzer(tracePath: TRACE_PATH);"
   ]
  },
  {
   "attachments": {},
   "cell_type": "markdown",
   "metadata": {},
   "source": [
    "#### Get Select Processes From a Trace"
   ]
  },
  {
   "cell_type": "code",
   "execution_count": 13,
   "metadata": {
    "dotnet_interactive": {
     "language": "csharp"
    },
    "vscode": {
     "languageId": "polyglot-notebook"
    }
   },
   "outputs": [],
   "source": [
    "Analyzer gcTraceData = new Analyzer(tracePath: TRACE_PATH, processNames: new HashSet<string> { \"devenv\" });"
   ]
  },
  {
   "attachments": {},
   "cell_type": "markdown",
   "metadata": {},
   "source": [
    "## Trace Summarization"
   ]
  },
  {
   "cell_type": "code",
   "execution_count": null,
   "metadata": {
    "dotnet_interactive": {
     "language": "csharp"
    },
    "vscode": {
     "languageId": "polyglot-notebook"
    }
   },
   "outputs": [],
   "source": [
    "gcTraceData.SummarizeTrace(processName: \"devenv\")"
   ]
  },
  {
   "attachments": {},
   "cell_type": "markdown",
   "metadata": {},
   "source": [
    "## GC Analysis"
   ]
  },
  {
   "attachments": {},
   "cell_type": "markdown",
   "metadata": {},
   "source": [
    "### GC Summary"
   ]
  },
  {
   "attachments": {},
   "cell_type": "markdown",
   "metadata": {},
   "source": [
    "#### Summarize By Process Name"
   ]
  },
  {
   "cell_type": "code",
   "execution_count": 14,
   "metadata": {
    "dotnet_interactive": {
     "language": "csharp"
    },
    "vscode": {
     "languageId": "polyglot-notebook"
    }
   },
   "outputs": [
    {
     "data": {
      "text/html": [
       "<table><thead><tr><th><i>index</i></th><th>value</th></tr></thead><tbody><tr><td>0</td><td><table id=\"table_638204545603565167\"><caption><h3 style=\"text-align: center;\">DataFrame - 39 rows </h3></caption><thead><tr><th><i>index</i></th><th> </th><th>Values</th></tr></thead><tbody><tr style=\"display: none\"><td><i><div class=\"dni-plaintext\"><pre>0</pre></div></i></td><td>Process ID</td><td>34852</td></tr><tr style=\"display: none\"><td><i><div class=\"dni-plaintext\"><pre>1</pre></div></i></td><td>Process Name</td><td>devenv</td></tr><tr style=\"display: none\"><td><i><div class=\"dni-plaintext\"><pre>2</pre></div></i></td><td>Commandline</td><td>&quot;C:\\Program Files\\Microsoft Visual Studio\\2022\\Enterprise\\Common7\\IDE\\devenv.exe&quot; </td></tr><tr style=\"display: none\"><td><i><div class=\"dni-plaintext\"><pre>3</pre></div></i></td><td>Process Duration (Sec)</td><td>591.24</td></tr><tr style=\"display: none\"><td><i><div class=\"dni-plaintext\"><pre>4</pre></div></i></td><td>Total Allocated MB</td><td>2044.06</td></tr><tr style=\"display: none\"><td><i><div class=\"dni-plaintext\"><pre>5</pre></div></i></td><td>Max Size Peak MB</td><td>1036.61</td></tr><tr style=\"display: none\"><td><i><div class=\"dni-plaintext\"><pre>6</pre></div></i></td><td>GC Count</td><td>21</td></tr><tr style=\"display: none\"><td><i><div class=\"dni-plaintext\"><pre>7</pre></div></i></td><td>Heap Count</td><td>2</td></tr><tr style=\"display: none\"><td><i><div class=\"dni-plaintext\"><pre>8</pre></div></i></td><td>Gen0 Count</td><td>13</td></tr><tr style=\"display: none\"><td><i><div class=\"dni-plaintext\"><pre>9</pre></div></i></td><td>Gen1 Count</td><td>6</td></tr><tr style=\"display: none\"><td><i><div class=\"dni-plaintext\"><pre>10</pre></div></i></td><td>Ephemeral Count</td><td>19</td></tr><tr style=\"display: none\"><td><i><div class=\"dni-plaintext\"><pre>11</pre></div></i></td><td>Gen2 Blocking Count</td><td>0</td></tr><tr style=\"display: none\"><td><i><div class=\"dni-plaintext\"><pre>12</pre></div></i></td><td>BGC Count</td><td>2</td></tr><tr style=\"display: none\"><td><i><div class=\"dni-plaintext\"><pre>13</pre></div></i></td><td>Gen0 Total Pause Time MSec</td><td>415.3</td></tr><tr style=\"display: none\"><td><i><div class=\"dni-plaintext\"><pre>14</pre></div></i></td><td>Gen1 Total Pause Time MSec</td><td>304.16</td></tr><tr style=\"display: none\"><td><i><div class=\"dni-plaintext\"><pre>15</pre></div></i></td><td>Ephemeral Total Pause Time MSec</td><td>719.46</td></tr><tr style=\"display: none\"><td><i><div class=\"dni-plaintext\"><pre>16</pre></div></i></td><td>Blocking Gen2 Total Pause Time MSec</td><td>0</td></tr><tr style=\"display: none\"><td><i><div class=\"dni-plaintext\"><pre>17</pre></div></i></td><td>BGC Total Pause Time MSec</td><td>81.47</td></tr><tr style=\"display: none\"><td><i><div class=\"dni-plaintext\"><pre>18</pre></div></i></td><td>GC Pause Time %</td><td>0.14</td></tr><tr style=\"display: none\"><td><i><div class=\"dni-plaintext\"><pre>19</pre></div></i></td><td>Gen0 Total Promoted MB</td><td>82.28</td></tr><tr style=\"display: none\"><td><i><div class=\"dni-plaintext\"><pre>20</pre></div></i></td><td>Gen1 Total Promoted MB</td><td>103.61</td></tr><tr style=\"display: none\"><td><i><div class=\"dni-plaintext\"><pre>21</pre></div></i></td><td>Ephemeral Total Promoted MB</td><td>185.89</td></tr><tr style=\"display: none\"><td><i><div class=\"dni-plaintext\"><pre>22</pre></div></i></td><td>BGC Total Promoted MB</td><td>1239.38</td></tr><tr style=\"display: none\"><td><i><div class=\"dni-plaintext\"><pre>23</pre></div></i></td><td>Gen2 Total Promoted MB - Blocking</td><td>0</td></tr><tr style=\"display: none\"><td><i><div class=\"dni-plaintext\"><pre>24</pre></div></i></td><td>Mean Size Before MB</td><td>990.74</td></tr><tr style=\"display: none\"><td><i><div class=\"dni-plaintext\"><pre>25</pre></div></i></td><td>Mean Size After MB</td><td>973.59</td></tr><tr style=\"display: none\"><td><i><div class=\"dni-plaintext\"><pre>26</pre></div></i></td><td>Ephemeral Average Speed (MB/MSec)</td><td>0.26</td></tr><tr style=\"display: none\"><td><i><div class=\"dni-plaintext\"><pre>27</pre></div></i></td><td>Gen0 Average Speed (MB/MSec)</td><td>0.2</td></tr><tr style=\"display: none\"><td><i><div class=\"dni-plaintext\"><pre>28</pre></div></i></td><td>Gen1 Average Speed (MB/MSec)</td><td>0.34</td></tr><tr style=\"display: none\"><td><i><div class=\"dni-plaintext\"><pre>29</pre></div></i></td><td>Avg. Gen0 Pause Time (ms)</td><td>31.95</td></tr><tr style=\"display: none\"><td><i><div class=\"dni-plaintext\"><pre>30</pre></div></i></td><td>Avg. Gen1 Pause Time (ms)</td><td>50.69</td></tr><tr style=\"display: none\"><td><i><div class=\"dni-plaintext\"><pre>31</pre></div></i></td><td>Avg. Gen0 Promoted (mb)</td><td>6.33</td></tr><tr style=\"display: none\"><td><i><div class=\"dni-plaintext\"><pre>32</pre></div></i></td><td>Avg. Gen1 Promoted (mb)</td><td>17.27</td></tr><tr style=\"display: none\"><td><i><div class=\"dni-plaintext\"><pre>33</pre></div></i></td><td>Avg. Gen0 Speed (mb/ms)</td><td>0.2</td></tr><tr style=\"display: none\"><td><i><div class=\"dni-plaintext\"><pre>34</pre></div></i></td><td>Avg. Gen1 Speed (mb/ms)</td><td>0.34</td></tr><tr style=\"display: none\"><td><i><div class=\"dni-plaintext\"><pre>35</pre></div></i></td><td>Avg. Gen0 Promoted (mb) / heap</td><td>3.16</td></tr><tr style=\"display: none\"><td><i><div class=\"dni-plaintext\"><pre>36</pre></div></i></td><td>Avg. Gen1 Promoted (mb) / heap</td><td>8.63</td></tr><tr style=\"display: none\"><td><i><div class=\"dni-plaintext\"><pre>37</pre></div></i></td><td>Avg. Gen0 Speed (mb/ms) / heap</td><td>0.1</td></tr><tr style=\"display: none\"><td><i><div class=\"dni-plaintext\"><pre>38</pre></div></i></td><td>Avg. Gen1 Speed (mb/ms) / heap</td><td>0.17</td></tr></tbody><tfoot><tr><td colspan=\"3\" style=\"text-align: center;\"><button style=\"margin: 2px;\" onclick=\"var allRows = document.querySelectorAll(&#39;#table_638204545603565167 tbody tr:nth-child(n)&#39;); for (let i = 0; i &lt; allRows.length; i++) { allRows[i].style.display=&#39;none&#39;; } document.querySelector(&#39;#page_638204545603565167&#39;).innerHTML = 1; var page = parseInt(document.querySelector(&#39;#page_638204545603565167&#39;).innerHTML) - 1; var pageRows = document.querySelectorAll(`#table_638204545603565167 tbody tr:nth-child(n + ${page * 25 + 1 })`); for (let j = 0; j &lt; 25; j++) { pageRows[j].style.display=&#39;table-row&#39;; } \">⏮</button><button style=\"margin: 2px;\" onclick=\"var allRows = document.querySelectorAll(&#39;#table_638204545603565167 tbody tr:nth-child(n)&#39;); for (let i = 0; i &lt; allRows.length; i++) { allRows[i].style.display=&#39;none&#39;; } var page = parseInt(document.querySelector(&#39;#page_638204545603565167&#39;).innerHTML) - 1; page = parseInt(page) + parseInt(-10); page = page &lt; 0 ? 0 : page; page = page > 1 ? 1 : page; document.querySelector(&#39;#page_638204545603565167&#39;).innerHTML = page + 1; var page = parseInt(document.querySelector(&#39;#page_638204545603565167&#39;).innerHTML) - 1; var pageRows = document.querySelectorAll(`#table_638204545603565167 tbody tr:nth-child(n + ${page * 25 + 1 })`); for (let j = 0; j &lt; 25; j++) { pageRows[j].style.display=&#39;table-row&#39;; } \">⏪</button><button style=\"margin: 2px;\" onclick=\"var allRows = document.querySelectorAll(&#39;#table_638204545603565167 tbody tr:nth-child(n)&#39;); for (let i = 0; i &lt; allRows.length; i++) { allRows[i].style.display=&#39;none&#39;; } var page = parseInt(document.querySelector(&#39;#page_638204545603565167&#39;).innerHTML) - 1; page = parseInt(page) + parseInt(-1); page = page &lt; 0 ? 0 : page; page = page > 1 ? 1 : page; document.querySelector(&#39;#page_638204545603565167&#39;).innerHTML = page + 1; var page = parseInt(document.querySelector(&#39;#page_638204545603565167&#39;).innerHTML) - 1; var pageRows = document.querySelectorAll(`#table_638204545603565167 tbody tr:nth-child(n + ${page * 25 + 1 })`); for (let j = 0; j &lt; 25; j++) { pageRows[j].style.display=&#39;table-row&#39;; } \">◀️</button><b style=\"margin: 2px;\">Page</b><b id=\"page_638204545603565167\" style=\"margin: 2px;\">1</b><button style=\"margin: 2px;\" onclick=\"var allRows = document.querySelectorAll(&#39;#table_638204545603565167 tbody tr:nth-child(n)&#39;); for (let i = 0; i &lt; allRows.length; i++) { allRows[i].style.display=&#39;none&#39;; } var page = parseInt(document.querySelector(&#39;#page_638204545603565167&#39;).innerHTML) - 1; page = parseInt(page) + parseInt(1); page = page &lt; 0 ? 0 : page; page = page > 1 ? 1 : page; document.querySelector(&#39;#page_638204545603565167&#39;).innerHTML = page + 1; var page = parseInt(document.querySelector(&#39;#page_638204545603565167&#39;).innerHTML) - 1; var pageRows = document.querySelectorAll(`#table_638204545603565167 tbody tr:nth-child(n + ${page * 25 + 1 })`); for (let j = 0; j &lt; 25; j++) { pageRows[j].style.display=&#39;table-row&#39;; } \">▶️</button><button style=\"margin: 2px;\" onclick=\"var allRows = document.querySelectorAll(&#39;#table_638204545603565167 tbody tr:nth-child(n)&#39;); for (let i = 0; i &lt; allRows.length; i++) { allRows[i].style.display=&#39;none&#39;; } var page = parseInt(document.querySelector(&#39;#page_638204545603565167&#39;).innerHTML) - 1; page = parseInt(page) + parseInt(10); page = page &lt; 0 ? 0 : page; page = page > 1 ? 1 : page; document.querySelector(&#39;#page_638204545603565167&#39;).innerHTML = page + 1; var page = parseInt(document.querySelector(&#39;#page_638204545603565167&#39;).innerHTML) - 1; var pageRows = document.querySelectorAll(`#table_638204545603565167 tbody tr:nth-child(n + ${page * 25 + 1 })`); for (let j = 0; j &lt; 25; j++) { pageRows[j].style.display=&#39;table-row&#39;; } \">⏩</button><button style=\"margin: 2px;\" onclick=\"var allRows = document.querySelectorAll(&#39;#table_638204545603565167 tbody tr:nth-child(n)&#39;); for (let i = 0; i &lt; allRows.length; i++) { allRows[i].style.display=&#39;none&#39;; } document.querySelector(&#39;#page_638204545603565167&#39;).innerHTML = 2; var page = parseInt(document.querySelector(&#39;#page_638204545603565167&#39;).innerHTML) - 1; var pageRows = document.querySelectorAll(`#table_638204545603565167 tbody tr:nth-child(n + ${page * 25 + 1 })`); for (let j = 0; j &lt; 25; j++) { pageRows[j].style.display=&#39;table-row&#39;; } \">⏭️</button></td></tr></tfoot></table><style>\r\n",
       ".dni-code-hint {\r\n",
       "    font-style: italic;\r\n",
       "    overflow: hidden;\r\n",
       "    white-space: nowrap;\r\n",
       "}\r\n",
       ".dni-treeview {\r\n",
       "    white-space: nowrap;\r\n",
       "}\r\n",
       ".dni-treeview td {\r\n",
       "    vertical-align: top;\r\n",
       "    text-align: start;\r\n",
       "}\r\n",
       "details.dni-treeview {\r\n",
       "    padding-left: 1em;\r\n",
       "}\r\n",
       "table td {\r\n",
       "    text-align: start;\r\n",
       "}\r\n",
       "table tr { \r\n",
       "    vertical-align: top; \r\n",
       "    margin: 0em 0px;\r\n",
       "}\r\n",
       "table tr td pre \r\n",
       "{ \r\n",
       "    vertical-align: top !important; \r\n",
       "    margin: 0em 0px !important;\r\n",
       "} \r\n",
       "table th {\r\n",
       "    text-align: start;\r\n",
       "}\r\n",
       "</style><script>var page = parseInt(document.querySelector('#page_638204545603565167').innerHTML) - 1; var pageRows = document.querySelectorAll(`#table_638204545603565167 tbody tr:nth-child(n + ${page * 25 + 1 })`); for (let j = 0; j < 25; j++) { pageRows[j].style.display='table-row'; } </script></td></tr><tr><td>1</td><td><table id=\"table_638204545603873454\"><caption><h3 style=\"text-align: center;\">DataFrame - 39 rows </h3></caption><thead><tr><th><i>index</i></th><th> </th><th>Values</th></tr></thead><tbody><tr style=\"display: none\"><td><i><div class=\"dni-plaintext\"><pre>0</pre></div></i></td><td>Process ID</td><td>42652</td></tr><tr style=\"display: none\"><td><i><div class=\"dni-plaintext\"><pre>1</pre></div></i></td><td>Process Name</td><td>devenv</td></tr><tr style=\"display: none\"><td><i><div class=\"dni-plaintext\"><pre>2</pre></div></i></td><td>Commandline</td><td>&quot;C:\\Program Files\\Microsoft Visual Studio\\2022\\Enterprise\\Common7\\IDE\\devenv.exe&quot; </td></tr><tr style=\"display: none\"><td><i><div class=\"dni-plaintext\"><pre>3</pre></div></i></td><td>Process Duration (Sec)</td><td>460.73</td></tr><tr style=\"display: none\"><td><i><div class=\"dni-plaintext\"><pre>4</pre></div></i></td><td>Total Allocated MB</td><td>202.35</td></tr><tr style=\"display: none\"><td><i><div class=\"dni-plaintext\"><pre>5</pre></div></i></td><td>Max Size Peak MB</td><td>521.63</td></tr><tr style=\"display: none\"><td><i><div class=\"dni-plaintext\"><pre>6</pre></div></i></td><td>GC Count</td><td>7</td></tr><tr style=\"display: none\"><td><i><div class=\"dni-plaintext\"><pre>7</pre></div></i></td><td>Heap Count</td><td>2</td></tr><tr style=\"display: none\"><td><i><div class=\"dni-plaintext\"><pre>8</pre></div></i></td><td>Gen0 Count</td><td>5</td></tr><tr style=\"display: none\"><td><i><div class=\"dni-plaintext\"><pre>9</pre></div></i></td><td>Gen1 Count</td><td>1</td></tr><tr style=\"display: none\"><td><i><div class=\"dni-plaintext\"><pre>10</pre></div></i></td><td>Ephemeral Count</td><td>6</td></tr><tr style=\"display: none\"><td><i><div class=\"dni-plaintext\"><pre>11</pre></div></i></td><td>Gen2 Blocking Count</td><td>0</td></tr><tr style=\"display: none\"><td><i><div class=\"dni-plaintext\"><pre>12</pre></div></i></td><td>BGC Count</td><td>1</td></tr><tr style=\"display: none\"><td><i><div class=\"dni-plaintext\"><pre>13</pre></div></i></td><td>Gen0 Total Pause Time MSec</td><td>190.42</td></tr><tr style=\"display: none\"><td><i><div class=\"dni-plaintext\"><pre>14</pre></div></i></td><td>Gen1 Total Pause Time MSec</td><td>51.79</td></tr><tr style=\"display: none\"><td><i><div class=\"dni-plaintext\"><pre>15</pre></div></i></td><td>Ephemeral Total Pause Time MSec</td><td>242.21</td></tr><tr style=\"display: none\"><td><i><div class=\"dni-plaintext\"><pre>16</pre></div></i></td><td>Blocking Gen2 Total Pause Time MSec</td><td>0</td></tr><tr style=\"display: none\"><td><i><div class=\"dni-plaintext\"><pre>17</pre></div></i></td><td>BGC Total Pause Time MSec</td><td>6.55</td></tr><tr style=\"display: none\"><td><i><div class=\"dni-plaintext\"><pre>18</pre></div></i></td><td>GC Pause Time %</td><td>0.05</td></tr><tr style=\"display: none\"><td><i><div class=\"dni-plaintext\"><pre>19</pre></div></i></td><td>Gen0 Total Promoted MB</td><td>4.72</td></tr><tr style=\"display: none\"><td><i><div class=\"dni-plaintext\"><pre>20</pre></div></i></td><td>Gen1 Total Promoted MB</td><td>6.78</td></tr><tr style=\"display: none\"><td><i><div class=\"dni-plaintext\"><pre>21</pre></div></i></td><td>Ephemeral Total Promoted MB</td><td>11.5</td></tr><tr style=\"display: none\"><td><i><div class=\"dni-plaintext\"><pre>22</pre></div></i></td><td>BGC Total Promoted MB</td><td>293.42</td></tr><tr style=\"display: none\"><td><i><div class=\"dni-plaintext\"><pre>23</pre></div></i></td><td>Gen2 Total Promoted MB - Blocking</td><td>0</td></tr><tr style=\"display: none\"><td><i><div class=\"dni-plaintext\"><pre>24</pre></div></i></td><td>Mean Size Before MB</td><td>501.04</td></tr><tr style=\"display: none\"><td><i><div class=\"dni-plaintext\"><pre>25</pre></div></i></td><td>Mean Size After MB</td><td>483.47</td></tr><tr style=\"display: none\"><td><i><div class=\"dni-plaintext\"><pre>26</pre></div></i></td><td>Ephemeral Average Speed (MB/MSec)</td><td>0.05</td></tr><tr style=\"display: none\"><td><i><div class=\"dni-plaintext\"><pre>27</pre></div></i></td><td>Gen0 Average Speed (MB/MSec)</td><td>0.02</td></tr><tr style=\"display: none\"><td><i><div class=\"dni-plaintext\"><pre>28</pre></div></i></td><td>Gen1 Average Speed (MB/MSec)</td><td>0.13</td></tr><tr style=\"display: none\"><td><i><div class=\"dni-plaintext\"><pre>29</pre></div></i></td><td>Avg. Gen0 Pause Time (ms)</td><td>38.08</td></tr><tr style=\"display: none\"><td><i><div class=\"dni-plaintext\"><pre>30</pre></div></i></td><td>Avg. Gen1 Pause Time (ms)</td><td>51.79</td></tr><tr style=\"display: none\"><td><i><div class=\"dni-plaintext\"><pre>31</pre></div></i></td><td>Avg. Gen0 Promoted (mb)</td><td>0.94</td></tr><tr style=\"display: none\"><td><i><div class=\"dni-plaintext\"><pre>32</pre></div></i></td><td>Avg. Gen1 Promoted (mb)</td><td>6.78</td></tr><tr style=\"display: none\"><td><i><div class=\"dni-plaintext\"><pre>33</pre></div></i></td><td>Avg. Gen0 Speed (mb/ms)</td><td>0.02</td></tr><tr style=\"display: none\"><td><i><div class=\"dni-plaintext\"><pre>34</pre></div></i></td><td>Avg. Gen1 Speed (mb/ms)</td><td>0.13</td></tr><tr style=\"display: none\"><td><i><div class=\"dni-plaintext\"><pre>35</pre></div></i></td><td>Avg. Gen0 Promoted (mb) / heap</td><td>0.47</td></tr><tr style=\"display: none\"><td><i><div class=\"dni-plaintext\"><pre>36</pre></div></i></td><td>Avg. Gen1 Promoted (mb) / heap</td><td>3.39</td></tr><tr style=\"display: none\"><td><i><div class=\"dni-plaintext\"><pre>37</pre></div></i></td><td>Avg. Gen0 Speed (mb/ms) / heap</td><td>0.01</td></tr><tr style=\"display: none\"><td><i><div class=\"dni-plaintext\"><pre>38</pre></div></i></td><td>Avg. Gen1 Speed (mb/ms) / heap</td><td>0.07</td></tr></tbody><tfoot><tr><td colspan=\"3\" style=\"text-align: center;\"><button style=\"margin: 2px;\" onclick=\"var allRows = document.querySelectorAll(&#39;#table_638204545603873454 tbody tr:nth-child(n)&#39;); for (let i = 0; i &lt; allRows.length; i++) { allRows[i].style.display=&#39;none&#39;; } document.querySelector(&#39;#page_638204545603873454&#39;).innerHTML = 1; var page = parseInt(document.querySelector(&#39;#page_638204545603873454&#39;).innerHTML) - 1; var pageRows = document.querySelectorAll(`#table_638204545603873454 tbody tr:nth-child(n + ${page * 25 + 1 })`); for (let j = 0; j &lt; 25; j++) { pageRows[j].style.display=&#39;table-row&#39;; } \">⏮</button><button style=\"margin: 2px;\" onclick=\"var allRows = document.querySelectorAll(&#39;#table_638204545603873454 tbody tr:nth-child(n)&#39;); for (let i = 0; i &lt; allRows.length; i++) { allRows[i].style.display=&#39;none&#39;; } var page = parseInt(document.querySelector(&#39;#page_638204545603873454&#39;).innerHTML) - 1; page = parseInt(page) + parseInt(-10); page = page &lt; 0 ? 0 : page; page = page > 1 ? 1 : page; document.querySelector(&#39;#page_638204545603873454&#39;).innerHTML = page + 1; var page = parseInt(document.querySelector(&#39;#page_638204545603873454&#39;).innerHTML) - 1; var pageRows = document.querySelectorAll(`#table_638204545603873454 tbody tr:nth-child(n + ${page * 25 + 1 })`); for (let j = 0; j &lt; 25; j++) { pageRows[j].style.display=&#39;table-row&#39;; } \">⏪</button><button style=\"margin: 2px;\" onclick=\"var allRows = document.querySelectorAll(&#39;#table_638204545603873454 tbody tr:nth-child(n)&#39;); for (let i = 0; i &lt; allRows.length; i++) { allRows[i].style.display=&#39;none&#39;; } var page = parseInt(document.querySelector(&#39;#page_638204545603873454&#39;).innerHTML) - 1; page = parseInt(page) + parseInt(-1); page = page &lt; 0 ? 0 : page; page = page > 1 ? 1 : page; document.querySelector(&#39;#page_638204545603873454&#39;).innerHTML = page + 1; var page = parseInt(document.querySelector(&#39;#page_638204545603873454&#39;).innerHTML) - 1; var pageRows = document.querySelectorAll(`#table_638204545603873454 tbody tr:nth-child(n + ${page * 25 + 1 })`); for (let j = 0; j &lt; 25; j++) { pageRows[j].style.display=&#39;table-row&#39;; } \">◀️</button><b style=\"margin: 2px;\">Page</b><b id=\"page_638204545603873454\" style=\"margin: 2px;\">1</b><button style=\"margin: 2px;\" onclick=\"var allRows = document.querySelectorAll(&#39;#table_638204545603873454 tbody tr:nth-child(n)&#39;); for (let i = 0; i &lt; allRows.length; i++) { allRows[i].style.display=&#39;none&#39;; } var page = parseInt(document.querySelector(&#39;#page_638204545603873454&#39;).innerHTML) - 1; page = parseInt(page) + parseInt(1); page = page &lt; 0 ? 0 : page; page = page > 1 ? 1 : page; document.querySelector(&#39;#page_638204545603873454&#39;).innerHTML = page + 1; var page = parseInt(document.querySelector(&#39;#page_638204545603873454&#39;).innerHTML) - 1; var pageRows = document.querySelectorAll(`#table_638204545603873454 tbody tr:nth-child(n + ${page * 25 + 1 })`); for (let j = 0; j &lt; 25; j++) { pageRows[j].style.display=&#39;table-row&#39;; } \">▶️</button><button style=\"margin: 2px;\" onclick=\"var allRows = document.querySelectorAll(&#39;#table_638204545603873454 tbody tr:nth-child(n)&#39;); for (let i = 0; i &lt; allRows.length; i++) { allRows[i].style.display=&#39;none&#39;; } var page = parseInt(document.querySelector(&#39;#page_638204545603873454&#39;).innerHTML) - 1; page = parseInt(page) + parseInt(10); page = page &lt; 0 ? 0 : page; page = page > 1 ? 1 : page; document.querySelector(&#39;#page_638204545603873454&#39;).innerHTML = page + 1; var page = parseInt(document.querySelector(&#39;#page_638204545603873454&#39;).innerHTML) - 1; var pageRows = document.querySelectorAll(`#table_638204545603873454 tbody tr:nth-child(n + ${page * 25 + 1 })`); for (let j = 0; j &lt; 25; j++) { pageRows[j].style.display=&#39;table-row&#39;; } \">⏩</button><button style=\"margin: 2px;\" onclick=\"var allRows = document.querySelectorAll(&#39;#table_638204545603873454 tbody tr:nth-child(n)&#39;); for (let i = 0; i &lt; allRows.length; i++) { allRows[i].style.display=&#39;none&#39;; } document.querySelector(&#39;#page_638204545603873454&#39;).innerHTML = 2; var page = parseInt(document.querySelector(&#39;#page_638204545603873454&#39;).innerHTML) - 1; var pageRows = document.querySelectorAll(`#table_638204545603873454 tbody tr:nth-child(n + ${page * 25 + 1 })`); for (let j = 0; j &lt; 25; j++) { pageRows[j].style.display=&#39;table-row&#39;; } \">⏭️</button></td></tr></tfoot></table><style>\r\n",
       ".dni-code-hint {\r\n",
       "    font-style: italic;\r\n",
       "    overflow: hidden;\r\n",
       "    white-space: nowrap;\r\n",
       "}\r\n",
       ".dni-treeview {\r\n",
       "    white-space: nowrap;\r\n",
       "}\r\n",
       ".dni-treeview td {\r\n",
       "    vertical-align: top;\r\n",
       "    text-align: start;\r\n",
       "}\r\n",
       "details.dni-treeview {\r\n",
       "    padding-left: 1em;\r\n",
       "}\r\n",
       "table td {\r\n",
       "    text-align: start;\r\n",
       "}\r\n",
       "table tr { \r\n",
       "    vertical-align: top; \r\n",
       "    margin: 0em 0px;\r\n",
       "}\r\n",
       "table tr td pre \r\n",
       "{ \r\n",
       "    vertical-align: top !important; \r\n",
       "    margin: 0em 0px !important;\r\n",
       "} \r\n",
       "table th {\r\n",
       "    text-align: start;\r\n",
       "}\r\n",
       "</style><script>var page = parseInt(document.querySelector('#page_638204545603873454').innerHTML) - 1; var pageRows = document.querySelectorAll(`#table_638204545603873454 tbody tr:nth-child(n + ${page * 25 + 1 })`); for (let j = 0; j < 25; j++) { pageRows[j].style.display='table-row'; } </script></td></tr><tr><td>2</td><td><table id=\"table_638204545603876465\"><caption><h3 style=\"text-align: center;\">DataFrame - 39 rows </h3></caption><thead><tr><th><i>index</i></th><th> </th><th>Values</th></tr></thead><tbody><tr style=\"display: none\"><td><i><div class=\"dni-plaintext\"><pre>0</pre></div></i></td><td>Process ID</td><td>35968</td></tr><tr style=\"display: none\"><td><i><div class=\"dni-plaintext\"><pre>1</pre></div></i></td><td>Process Name</td><td>devenv</td></tr><tr style=\"display: none\"><td><i><div class=\"dni-plaintext\"><pre>2</pre></div></i></td><td>Commandline</td><td>&quot;C:\\Program Files\\Microsoft Visual Studio\\2022\\Enterprise\\Common7\\IDE\\devenv.exe&quot; </td></tr><tr style=\"display: none\"><td><i><div class=\"dni-plaintext\"><pre>3</pre></div></i></td><td>Process Duration (Sec)</td><td>794.96</td></tr><tr style=\"display: none\"><td><i><div class=\"dni-plaintext\"><pre>4</pre></div></i></td><td>Total Allocated MB</td><td>203.84</td></tr><tr style=\"display: none\"><td><i><div class=\"dni-plaintext\"><pre>5</pre></div></i></td><td>Max Size Peak MB</td><td>2372.7</td></tr><tr style=\"display: none\"><td><i><div class=\"dni-plaintext\"><pre>6</pre></div></i></td><td>GC Count</td><td>9</td></tr><tr style=\"display: none\"><td><i><div class=\"dni-plaintext\"><pre>7</pre></div></i></td><td>Heap Count</td><td>2</td></tr><tr style=\"display: none\"><td><i><div class=\"dni-plaintext\"><pre>8</pre></div></i></td><td>Gen0 Count</td><td>5</td></tr><tr style=\"display: none\"><td><i><div class=\"dni-plaintext\"><pre>9</pre></div></i></td><td>Gen1 Count</td><td>4</td></tr><tr style=\"display: none\"><td><i><div class=\"dni-plaintext\"><pre>10</pre></div></i></td><td>Ephemeral Count</td><td>9</td></tr><tr style=\"display: none\"><td><i><div class=\"dni-plaintext\"><pre>11</pre></div></i></td><td>Gen2 Blocking Count</td><td>0</td></tr><tr style=\"display: none\"><td><i><div class=\"dni-plaintext\"><pre>12</pre></div></i></td><td>BGC Count</td><td>0</td></tr><tr style=\"display: none\"><td><i><div class=\"dni-plaintext\"><pre>13</pre></div></i></td><td>Gen0 Total Pause Time MSec</td><td>202.69</td></tr><tr style=\"display: none\"><td><i><div class=\"dni-plaintext\"><pre>14</pre></div></i></td><td>Gen1 Total Pause Time MSec</td><td>181.69</td></tr><tr style=\"display: none\"><td><i><div class=\"dni-plaintext\"><pre>15</pre></div></i></td><td>Ephemeral Total Pause Time MSec</td><td>384.38</td></tr><tr style=\"display: none\"><td><i><div class=\"dni-plaintext\"><pre>16</pre></div></i></td><td>Blocking Gen2 Total Pause Time MSec</td><td>0</td></tr><tr style=\"display: none\"><td><i><div class=\"dni-plaintext\"><pre>17</pre></div></i></td><td>BGC Total Pause Time MSec</td><td>0</td></tr><tr style=\"display: none\"><td><i><div class=\"dni-plaintext\"><pre>18</pre></div></i></td><td>GC Pause Time %</td><td>0.05</td></tr><tr style=\"display: none\"><td><i><div class=\"dni-plaintext\"><pre>19</pre></div></i></td><td>Gen0 Total Promoted MB</td><td>0.76</td></tr><tr style=\"display: none\"><td><i><div class=\"dni-plaintext\"><pre>20</pre></div></i></td><td>Gen1 Total Promoted MB</td><td>0.56</td></tr><tr style=\"display: none\"><td><i><div class=\"dni-plaintext\"><pre>21</pre></div></i></td><td>Ephemeral Total Promoted MB</td><td>1.32</td></tr><tr style=\"display: none\"><td><i><div class=\"dni-plaintext\"><pre>22</pre></div></i></td><td>BGC Total Promoted MB</td><td>0</td></tr><tr style=\"display: none\"><td><i><div class=\"dni-plaintext\"><pre>23</pre></div></i></td><td>Gen2 Total Promoted MB - Blocking</td><td>0</td></tr><tr style=\"display: none\"><td><i><div class=\"dni-plaintext\"><pre>24</pre></div></i></td><td>Mean Size Before MB</td><td>2372.25</td></tr><tr style=\"display: none\"><td><i><div class=\"dni-plaintext\"><pre>25</pre></div></i></td><td>Mean Size After MB</td><td>2363.99</td></tr><tr style=\"display: none\"><td><i><div class=\"dni-plaintext\"><pre>26</pre></div></i></td><td>Ephemeral Average Speed (MB/MSec)</td><td>0</td></tr><tr style=\"display: none\"><td><i><div class=\"dni-plaintext\"><pre>27</pre></div></i></td><td>Gen0 Average Speed (MB/MSec)</td><td>0</td></tr><tr style=\"display: none\"><td><i><div class=\"dni-plaintext\"><pre>28</pre></div></i></td><td>Gen1 Average Speed (MB/MSec)</td><td>0</td></tr><tr style=\"display: none\"><td><i><div class=\"dni-plaintext\"><pre>29</pre></div></i></td><td>Avg. Gen0 Pause Time (ms)</td><td>40.54</td></tr><tr style=\"display: none\"><td><i><div class=\"dni-plaintext\"><pre>30</pre></div></i></td><td>Avg. Gen1 Pause Time (ms)</td><td>45.42</td></tr><tr style=\"display: none\"><td><i><div class=\"dni-plaintext\"><pre>31</pre></div></i></td><td>Avg. Gen0 Promoted (mb)</td><td>0.15</td></tr><tr style=\"display: none\"><td><i><div class=\"dni-plaintext\"><pre>32</pre></div></i></td><td>Avg. Gen1 Promoted (mb)</td><td>0.14</td></tr><tr style=\"display: none\"><td><i><div class=\"dni-plaintext\"><pre>33</pre></div></i></td><td>Avg. Gen0 Speed (mb/ms)</td><td>0</td></tr><tr style=\"display: none\"><td><i><div class=\"dni-plaintext\"><pre>34</pre></div></i></td><td>Avg. Gen1 Speed (mb/ms)</td><td>0</td></tr><tr style=\"display: none\"><td><i><div class=\"dni-plaintext\"><pre>35</pre></div></i></td><td>Avg. Gen0 Promoted (mb) / heap</td><td>0.08</td></tr><tr style=\"display: none\"><td><i><div class=\"dni-plaintext\"><pre>36</pre></div></i></td><td>Avg. Gen1 Promoted (mb) / heap</td><td>0.07</td></tr><tr style=\"display: none\"><td><i><div class=\"dni-plaintext\"><pre>37</pre></div></i></td><td>Avg. Gen0 Speed (mb/ms) / heap</td><td>0</td></tr><tr style=\"display: none\"><td><i><div class=\"dni-plaintext\"><pre>38</pre></div></i></td><td>Avg. Gen1 Speed (mb/ms) / heap</td><td>0</td></tr></tbody><tfoot><tr><td colspan=\"3\" style=\"text-align: center;\"><button style=\"margin: 2px;\" onclick=\"var allRows = document.querySelectorAll(&#39;#table_638204545603876465 tbody tr:nth-child(n)&#39;); for (let i = 0; i &lt; allRows.length; i++) { allRows[i].style.display=&#39;none&#39;; } document.querySelector(&#39;#page_638204545603876465&#39;).innerHTML = 1; var page = parseInt(document.querySelector(&#39;#page_638204545603876465&#39;).innerHTML) - 1; var pageRows = document.querySelectorAll(`#table_638204545603876465 tbody tr:nth-child(n + ${page * 25 + 1 })`); for (let j = 0; j &lt; 25; j++) { pageRows[j].style.display=&#39;table-row&#39;; } \">⏮</button><button style=\"margin: 2px;\" onclick=\"var allRows = document.querySelectorAll(&#39;#table_638204545603876465 tbody tr:nth-child(n)&#39;); for (let i = 0; i &lt; allRows.length; i++) { allRows[i].style.display=&#39;none&#39;; } var page = parseInt(document.querySelector(&#39;#page_638204545603876465&#39;).innerHTML) - 1; page = parseInt(page) + parseInt(-10); page = page &lt; 0 ? 0 : page; page = page > 1 ? 1 : page; document.querySelector(&#39;#page_638204545603876465&#39;).innerHTML = page + 1; var page = parseInt(document.querySelector(&#39;#page_638204545603876465&#39;).innerHTML) - 1; var pageRows = document.querySelectorAll(`#table_638204545603876465 tbody tr:nth-child(n + ${page * 25 + 1 })`); for (let j = 0; j &lt; 25; j++) { pageRows[j].style.display=&#39;table-row&#39;; } \">⏪</button><button style=\"margin: 2px;\" onclick=\"var allRows = document.querySelectorAll(&#39;#table_638204545603876465 tbody tr:nth-child(n)&#39;); for (let i = 0; i &lt; allRows.length; i++) { allRows[i].style.display=&#39;none&#39;; } var page = parseInt(document.querySelector(&#39;#page_638204545603876465&#39;).innerHTML) - 1; page = parseInt(page) + parseInt(-1); page = page &lt; 0 ? 0 : page; page = page > 1 ? 1 : page; document.querySelector(&#39;#page_638204545603876465&#39;).innerHTML = page + 1; var page = parseInt(document.querySelector(&#39;#page_638204545603876465&#39;).innerHTML) - 1; var pageRows = document.querySelectorAll(`#table_638204545603876465 tbody tr:nth-child(n + ${page * 25 + 1 })`); for (let j = 0; j &lt; 25; j++) { pageRows[j].style.display=&#39;table-row&#39;; } \">◀️</button><b style=\"margin: 2px;\">Page</b><b id=\"page_638204545603876465\" style=\"margin: 2px;\">1</b><button style=\"margin: 2px;\" onclick=\"var allRows = document.querySelectorAll(&#39;#table_638204545603876465 tbody tr:nth-child(n)&#39;); for (let i = 0; i &lt; allRows.length; i++) { allRows[i].style.display=&#39;none&#39;; } var page = parseInt(document.querySelector(&#39;#page_638204545603876465&#39;).innerHTML) - 1; page = parseInt(page) + parseInt(1); page = page &lt; 0 ? 0 : page; page = page > 1 ? 1 : page; document.querySelector(&#39;#page_638204545603876465&#39;).innerHTML = page + 1; var page = parseInt(document.querySelector(&#39;#page_638204545603876465&#39;).innerHTML) - 1; var pageRows = document.querySelectorAll(`#table_638204545603876465 tbody tr:nth-child(n + ${page * 25 + 1 })`); for (let j = 0; j &lt; 25; j++) { pageRows[j].style.display=&#39;table-row&#39;; } \">▶️</button><button style=\"margin: 2px;\" onclick=\"var allRows = document.querySelectorAll(&#39;#table_638204545603876465 tbody tr:nth-child(n)&#39;); for (let i = 0; i &lt; allRows.length; i++) { allRows[i].style.display=&#39;none&#39;; } var page = parseInt(document.querySelector(&#39;#page_638204545603876465&#39;).innerHTML) - 1; page = parseInt(page) + parseInt(10); page = page &lt; 0 ? 0 : page; page = page > 1 ? 1 : page; document.querySelector(&#39;#page_638204545603876465&#39;).innerHTML = page + 1; var page = parseInt(document.querySelector(&#39;#page_638204545603876465&#39;).innerHTML) - 1; var pageRows = document.querySelectorAll(`#table_638204545603876465 tbody tr:nth-child(n + ${page * 25 + 1 })`); for (let j = 0; j &lt; 25; j++) { pageRows[j].style.display=&#39;table-row&#39;; } \">⏩</button><button style=\"margin: 2px;\" onclick=\"var allRows = document.querySelectorAll(&#39;#table_638204545603876465 tbody tr:nth-child(n)&#39;); for (let i = 0; i &lt; allRows.length; i++) { allRows[i].style.display=&#39;none&#39;; } document.querySelector(&#39;#page_638204545603876465&#39;).innerHTML = 2; var page = parseInt(document.querySelector(&#39;#page_638204545603876465&#39;).innerHTML) - 1; var pageRows = document.querySelectorAll(`#table_638204545603876465 tbody tr:nth-child(n + ${page * 25 + 1 })`); for (let j = 0; j &lt; 25; j++) { pageRows[j].style.display=&#39;table-row&#39;; } \">⏭️</button></td></tr></tfoot></table><style>\r\n",
       ".dni-code-hint {\r\n",
       "    font-style: italic;\r\n",
       "    overflow: hidden;\r\n",
       "    white-space: nowrap;\r\n",
       "}\r\n",
       ".dni-treeview {\r\n",
       "    white-space: nowrap;\r\n",
       "}\r\n",
       ".dni-treeview td {\r\n",
       "    vertical-align: top;\r\n",
       "    text-align: start;\r\n",
       "}\r\n",
       "details.dni-treeview {\r\n",
       "    padding-left: 1em;\r\n",
       "}\r\n",
       "table td {\r\n",
       "    text-align: start;\r\n",
       "}\r\n",
       "table tr { \r\n",
       "    vertical-align: top; \r\n",
       "    margin: 0em 0px;\r\n",
       "}\r\n",
       "table tr td pre \r\n",
       "{ \r\n",
       "    vertical-align: top !important; \r\n",
       "    margin: 0em 0px !important;\r\n",
       "} \r\n",
       "table th {\r\n",
       "    text-align: start;\r\n",
       "}\r\n",
       "</style><script>var page = parseInt(document.querySelector('#page_638204545603876465').innerHTML) - 1; var pageRows = document.querySelectorAll(`#table_638204545603876465 tbody tr:nth-child(n + ${page * 25 + 1 })`); for (let j = 0; j < 25; j++) { pageRows[j].style.display='table-row'; } </script></td></tr></tbody></table><style>\r\n",
       ".dni-code-hint {\r\n",
       "    font-style: italic;\r\n",
       "    overflow: hidden;\r\n",
       "    white-space: nowrap;\r\n",
       "}\r\n",
       ".dni-treeview {\r\n",
       "    white-space: nowrap;\r\n",
       "}\r\n",
       ".dni-treeview td {\r\n",
       "    vertical-align: top;\r\n",
       "    text-align: start;\r\n",
       "}\r\n",
       "details.dni-treeview {\r\n",
       "    padding-left: 1em;\r\n",
       "}\r\n",
       "table td {\r\n",
       "    text-align: start;\r\n",
       "}\r\n",
       "table tr { \r\n",
       "    vertical-align: top; \r\n",
       "    margin: 0em 0px;\r\n",
       "}\r\n",
       "table tr td pre \r\n",
       "{ \r\n",
       "    vertical-align: top !important; \r\n",
       "    margin: 0em 0px !important;\r\n",
       "} \r\n",
       "table th {\r\n",
       "    text-align: start;\r\n",
       "}\r\n",
       "</style>"
      ]
     },
     "metadata": {},
     "output_type": "display_data"
    }
   ],
   "source": [
    "gcTraceData.Summarize(processName: \"devenv\")"
   ]
  },
  {
   "attachments": {},
   "cell_type": "markdown",
   "metadata": {},
   "source": [
    "#### Comparative Summary"
   ]
  },
  {
   "cell_type": "code",
   "execution_count": 15,
   "metadata": {
    "dotnet_interactive": {
     "language": "csharp"
    },
    "vscode": {
     "languageId": "polyglot-notebook"
    }
   },
   "outputs": [
    {
     "data": {
      "text/html": [
       "<table id=\"table_638204545641161183\"><caption><h3 style=\"text-align: center;\">DataFrame - 29 rows </h3></caption><thead><tr><th><i>index</i></th><th> </th><th>Baseline</th><th>42652</th><th>Diff: 42652</th><th>Diff %: 42652</th><th>35968</th><th>Diff: 35968</th><th>Diff %: 35968</th></tr></thead><tbody><tr style=\"display: none\"><td><i><div class=\"dni-plaintext\"><pre>0</pre></div></i></td><td>Process ID</td><td>34852</td><td>42652</td><td></td><td></td><td>35968</td><td></td><td></td></tr><tr style=\"display: none\"><td><i><div class=\"dni-plaintext\"><pre>1</pre></div></i></td><td>Process Name</td><td>devenv</td><td>devenv</td><td></td><td></td><td>devenv</td><td></td><td></td></tr><tr style=\"display: none\"><td><i><div class=\"dni-plaintext\"><pre>2</pre></div></i></td><td>Commandline</td><td>&quot;C:\\Program Files\\Microsoft Visual Studio\\2022\\Enterprise\\Common7\\IDE\\devenv.exe&quot; </td><td>&quot;C:\\Program Files\\Microsoft Visual Studio\\2022\\Enterprise\\Common7\\IDE\\devenv.exe&quot; </td><td></td><td></td><td>&quot;C:\\Program Files\\Microsoft Visual Studio\\2022\\Enterprise\\Common7\\IDE\\devenv.exe&quot; </td><td></td><td></td></tr><tr style=\"display: none\"><td><i><div class=\"dni-plaintext\"><pre>3</pre></div></i></td><td>Process Duration (Sec)</td><td>591.237</td><td>460.733</td><td>-130.504</td><td>-22.073</td><td>794.958</td><td>203.721</td><td>34.457</td></tr><tr style=\"display: none\"><td><i><div class=\"dni-plaintext\"><pre>4</pre></div></i></td><td>Total Allocated MB</td><td>2,044.063</td><td>202.354</td><td>-1,841.709</td><td>-90.100</td><td>203.836</td><td>-1,840.227</td><td>-90.028</td></tr><tr style=\"display: none\"><td><i><div class=\"dni-plaintext\"><pre>5</pre></div></i></td><td>Max Size Peak MB</td><td>1,036.611</td><td>521.626</td><td>-514.985</td><td>-49.680</td><td>2,372.703</td><td>1,336.091</td><td>128.890</td></tr><tr style=\"display: none\"><td><i><div class=\"dni-plaintext\"><pre>6</pre></div></i></td><td>GC Count</td><td>21.000</td><td>7.000</td><td>-14.000</td><td>-66.667</td><td>9.000</td><td>-12.000</td><td>-57.143</td></tr><tr style=\"display: none\"><td><i><div class=\"dni-plaintext\"><pre>7</pre></div></i></td><td>Heap Count</td><td>2.000</td><td>2.000</td><td>0.000</td><td>0.000</td><td>2.000</td><td>0.000</td><td>0.000</td></tr><tr style=\"display: none\"><td><i><div class=\"dni-plaintext\"><pre>8</pre></div></i></td><td>Gen0 Count</td><td>13.000</td><td>5.000</td><td>-8.000</td><td>-61.538</td><td>5.000</td><td>-8.000</td><td>-61.538</td></tr><tr style=\"display: none\"><td><i><div class=\"dni-plaintext\"><pre>9</pre></div></i></td><td>Gen1 Count</td><td>6.000</td><td>1.000</td><td>-5.000</td><td>-83.333</td><td>4.000</td><td>-2.000</td><td>-33.333</td></tr><tr style=\"display: none\"><td><i><div class=\"dni-plaintext\"><pre>10</pre></div></i></td><td>Ephemeral Count</td><td>19.000</td><td>6.000</td><td>-13.000</td><td>-68.421</td><td>9.000</td><td>-10.000</td><td>-52.632</td></tr><tr style=\"display: none\"><td><i><div class=\"dni-plaintext\"><pre>11</pre></div></i></td><td>Gen2 Blocking Count</td><td>0.000</td><td>0.000</td><td>0.000</td><td>NaN</td><td>0.000</td><td>0.000</td><td>NaN</td></tr><tr style=\"display: none\"><td><i><div class=\"dni-plaintext\"><pre>12</pre></div></i></td><td>BGC Count</td><td>2.000</td><td>1.000</td><td>-1.000</td><td>-50.000</td><td>0.000</td><td>-2.000</td><td>-100.000</td></tr><tr style=\"display: none\"><td><i><div class=\"dni-plaintext\"><pre>13</pre></div></i></td><td>Gen0 Total Pause Time MSec</td><td>415.305</td><td>190.417</td><td>-224.887</td><td>-54.150</td><td>202.687</td><td>-212.618</td><td>-51.196</td></tr><tr style=\"display: none\"><td><i><div class=\"dni-plaintext\"><pre>14</pre></div></i></td><td>Gen1 Total Pause Time MSec</td><td>304.158</td><td>51.792</td><td>-252.366</td><td>-82.972</td><td>181.695</td><td>-122.463</td><td>-40.263</td></tr><tr style=\"display: none\"><td><i><div class=\"dni-plaintext\"><pre>15</pre></div></i></td><td>Ephemeral Total Pause Time MSec</td><td>719.463</td><td>242.209</td><td>-477.253</td><td>-66.335</td><td>384.382</td><td>-335.081</td><td>-46.574</td></tr><tr style=\"display: none\"><td><i><div class=\"dni-plaintext\"><pre>16</pre></div></i></td><td>Blocking Gen2 Total Pause Time MSec</td><td>0.000</td><td>0.000</td><td>0.000</td><td>NaN</td><td>0.000</td><td>0.000</td><td>NaN</td></tr><tr style=\"display: none\"><td><i><div class=\"dni-plaintext\"><pre>17</pre></div></i></td><td>BGC Total Pause Time MSec</td><td>81.470</td><td>6.547</td><td>-74.923</td><td>-91.964</td><td>0.000</td><td>-81.470</td><td>-100.000</td></tr><tr style=\"display: none\"><td><i><div class=\"dni-plaintext\"><pre>18</pre></div></i></td><td>GC Pause Time %</td><td>0.135</td><td>0.054</td><td>-0.081</td><td>-60.144</td><td>0.048</td><td>-0.087</td><td>-64.307</td></tr><tr style=\"display: none\"><td><i><div class=\"dni-plaintext\"><pre>19</pre></div></i></td><td>Avg. Gen0 Pause Time (ms)</td><td>31.947</td><td>38.083</td><td>6.137</td><td>19.210</td><td>40.537</td><td>8.591</td><td>26.891</td></tr><tr style=\"display: none\"><td><i><div class=\"dni-plaintext\"><pre>20</pre></div></i></td><td>Avg. Gen1 Pause Time (ms)</td><td>50.693</td><td>51.792</td><td>1.099</td><td>2.167</td><td>45.424</td><td>-5.269</td><td>-10.395</td></tr><tr style=\"display: none\"><td><i><div class=\"dni-plaintext\"><pre>21</pre></div></i></td><td>Avg. Gen0 Promoted (mb)</td><td>6.330</td><td>0.944</td><td>-5.386</td><td>-85.086</td><td>0.152</td><td>-6.178</td><td>-97.604</td></tr><tr style=\"display: none\"><td><i><div class=\"dni-plaintext\"><pre>22</pre></div></i></td><td>Avg. Gen1 Promoted (mb)</td><td>17.268</td><td>6.779</td><td>-10.488</td><td>-60.739</td><td>0.139</td><td>-17.128</td><td>-99.193</td></tr><tr style=\"display: none\"><td><i><div class=\"dni-plaintext\"><pre>23</pre></div></i></td><td>Avg. Gen0 Speed (mb/ms)</td><td>0.198</td><td>0.025</td><td>-0.173</td><td>-87.489</td><td>0.004</td><td>-0.194</td><td>-98.112</td></tr><tr style=\"display: none\"><td><i><div class=\"dni-plaintext\"><pre>24</pre></div></i></td><td>Avg. Gen1 Speed (mb/ms)</td><td>0.341</td><td>0.131</td><td>-0.210</td><td>-61.572</td><td>0.003</td><td>-0.338</td><td>-99.099</td></tr><tr style=\"display: none\"><td><i><div class=\"dni-plaintext\"><pre>25</pre></div></i></td><td>Avg. Gen0 Promoted (mb) / heap</td><td>3.165</td><td>0.472</td><td>-2.693</td><td>-85.086</td><td>0.076</td><td>-3.089</td><td>-97.604</td></tr><tr style=\"display: none\"><td><i><div class=\"dni-plaintext\"><pre>26</pre></div></i></td><td>Avg. Gen1 Promoted (mb) / heap</td><td>8.634</td><td>3.390</td><td>-5.244</td><td>-60.739</td><td>0.070</td><td>-8.564</td><td>-99.193</td></tr><tr style=\"display: none\"><td><i><div class=\"dni-plaintext\"><pre>27</pre></div></i></td><td>Avg. Gen0 Speed (mb/ms) / heap</td><td>0.099</td><td>0.012</td><td>-0.087</td><td>-87.489</td><td>0.002</td><td>-0.097</td><td>-98.112</td></tr><tr style=\"display: none\"><td><i><div class=\"dni-plaintext\"><pre>28</pre></div></i></td><td>Avg. Gen1 Speed (mb/ms) / heap</td><td>0.170</td><td>0.065</td><td>-0.105</td><td>-61.572</td><td>0.002</td><td>-0.169</td><td>-99.099</td></tr></tbody><tfoot><tr><td colspan=\"9\" style=\"text-align: center;\"><button style=\"margin: 2px;\" onclick=\"var allRows = document.querySelectorAll(&#39;#table_638204545641161183 tbody tr:nth-child(n)&#39;); for (let i = 0; i &lt; allRows.length; i++) { allRows[i].style.display=&#39;none&#39;; } document.querySelector(&#39;#page_638204545641161183&#39;).innerHTML = 1; var page = parseInt(document.querySelector(&#39;#page_638204545641161183&#39;).innerHTML) - 1; var pageRows = document.querySelectorAll(`#table_638204545641161183 tbody tr:nth-child(n + ${page * 25 + 1 })`); for (let j = 0; j &lt; 25; j++) { pageRows[j].style.display=&#39;table-row&#39;; } \">⏮</button><button style=\"margin: 2px;\" onclick=\"var allRows = document.querySelectorAll(&#39;#table_638204545641161183 tbody tr:nth-child(n)&#39;); for (let i = 0; i &lt; allRows.length; i++) { allRows[i].style.display=&#39;none&#39;; } var page = parseInt(document.querySelector(&#39;#page_638204545641161183&#39;).innerHTML) - 1; page = parseInt(page) + parseInt(-10); page = page &lt; 0 ? 0 : page; page = page > 1 ? 1 : page; document.querySelector(&#39;#page_638204545641161183&#39;).innerHTML = page + 1; var page = parseInt(document.querySelector(&#39;#page_638204545641161183&#39;).innerHTML) - 1; var pageRows = document.querySelectorAll(`#table_638204545641161183 tbody tr:nth-child(n + ${page * 25 + 1 })`); for (let j = 0; j &lt; 25; j++) { pageRows[j].style.display=&#39;table-row&#39;; } \">⏪</button><button style=\"margin: 2px;\" onclick=\"var allRows = document.querySelectorAll(&#39;#table_638204545641161183 tbody tr:nth-child(n)&#39;); for (let i = 0; i &lt; allRows.length; i++) { allRows[i].style.display=&#39;none&#39;; } var page = parseInt(document.querySelector(&#39;#page_638204545641161183&#39;).innerHTML) - 1; page = parseInt(page) + parseInt(-1); page = page &lt; 0 ? 0 : page; page = page > 1 ? 1 : page; document.querySelector(&#39;#page_638204545641161183&#39;).innerHTML = page + 1; var page = parseInt(document.querySelector(&#39;#page_638204545641161183&#39;).innerHTML) - 1; var pageRows = document.querySelectorAll(`#table_638204545641161183 tbody tr:nth-child(n + ${page * 25 + 1 })`); for (let j = 0; j &lt; 25; j++) { pageRows[j].style.display=&#39;table-row&#39;; } \">◀️</button><b style=\"margin: 2px;\">Page</b><b id=\"page_638204545641161183\" style=\"margin: 2px;\">1</b><button style=\"margin: 2px;\" onclick=\"var allRows = document.querySelectorAll(&#39;#table_638204545641161183 tbody tr:nth-child(n)&#39;); for (let i = 0; i &lt; allRows.length; i++) { allRows[i].style.display=&#39;none&#39;; } var page = parseInt(document.querySelector(&#39;#page_638204545641161183&#39;).innerHTML) - 1; page = parseInt(page) + parseInt(1); page = page &lt; 0 ? 0 : page; page = page > 1 ? 1 : page; document.querySelector(&#39;#page_638204545641161183&#39;).innerHTML = page + 1; var page = parseInt(document.querySelector(&#39;#page_638204545641161183&#39;).innerHTML) - 1; var pageRows = document.querySelectorAll(`#table_638204545641161183 tbody tr:nth-child(n + ${page * 25 + 1 })`); for (let j = 0; j &lt; 25; j++) { pageRows[j].style.display=&#39;table-row&#39;; } \">▶️</button><button style=\"margin: 2px;\" onclick=\"var allRows = document.querySelectorAll(&#39;#table_638204545641161183 tbody tr:nth-child(n)&#39;); for (let i = 0; i &lt; allRows.length; i++) { allRows[i].style.display=&#39;none&#39;; } var page = parseInt(document.querySelector(&#39;#page_638204545641161183&#39;).innerHTML) - 1; page = parseInt(page) + parseInt(10); page = page &lt; 0 ? 0 : page; page = page > 1 ? 1 : page; document.querySelector(&#39;#page_638204545641161183&#39;).innerHTML = page + 1; var page = parseInt(document.querySelector(&#39;#page_638204545641161183&#39;).innerHTML) - 1; var pageRows = document.querySelectorAll(`#table_638204545641161183 tbody tr:nth-child(n + ${page * 25 + 1 })`); for (let j = 0; j &lt; 25; j++) { pageRows[j].style.display=&#39;table-row&#39;; } \">⏩</button><button style=\"margin: 2px;\" onclick=\"var allRows = document.querySelectorAll(&#39;#table_638204545641161183 tbody tr:nth-child(n)&#39;); for (let i = 0; i &lt; allRows.length; i++) { allRows[i].style.display=&#39;none&#39;; } document.querySelector(&#39;#page_638204545641161183&#39;).innerHTML = 2; var page = parseInt(document.querySelector(&#39;#page_638204545641161183&#39;).innerHTML) - 1; var pageRows = document.querySelectorAll(`#table_638204545641161183 tbody tr:nth-child(n + ${page * 25 + 1 })`); for (let j = 0; j &lt; 25; j++) { pageRows[j].style.display=&#39;table-row&#39;; } \">⏭️</button></td></tr></tfoot></table><style>\r\n",
       ".dni-code-hint {\r\n",
       "    font-style: italic;\r\n",
       "    overflow: hidden;\r\n",
       "    white-space: nowrap;\r\n",
       "}\r\n",
       ".dni-treeview {\r\n",
       "    white-space: nowrap;\r\n",
       "}\r\n",
       ".dni-treeview td {\r\n",
       "    vertical-align: top;\r\n",
       "    text-align: start;\r\n",
       "}\r\n",
       "details.dni-treeview {\r\n",
       "    padding-left: 1em;\r\n",
       "}\r\n",
       "table td {\r\n",
       "    text-align: start;\r\n",
       "}\r\n",
       "table tr { \r\n",
       "    vertical-align: top; \r\n",
       "    margin: 0em 0px;\r\n",
       "}\r\n",
       "table tr td pre \r\n",
       "{ \r\n",
       "    vertical-align: top !important; \r\n",
       "    margin: 0em 0px !important;\r\n",
       "} \r\n",
       "table th {\r\n",
       "    text-align: start;\r\n",
       "}\r\n",
       "</style><script>var page = parseInt(document.querySelector('#page_638204545641161183').innerHTML) - 1; var pageRows = document.querySelectorAll(`#table_638204545641161183 tbody tr:nth-child(n + ${page * 25 + 1 })`); for (let j = 0; j < 25; j++) { pageRows[j].style.display='table-row'; } </script>"
      ]
     },
     "metadata": {},
     "output_type": "display_data"
    }
   ],
   "source": [
    "List<GCProcessData> allDevenvs = gcTraceData.GetProcessGCData(\"devenv\");\n",
    "var data = allDevenvs[0].Compare(new [] { allDevenvs[1], allDevenvs[2] });\n",
    "data"
   ]
  },
  {
   "attachments": {},
   "cell_type": "markdown",
   "metadata": {},
   "source": [
    "#### Summarize Based On All Processes Sorted By Some Criteria "
   ]
  },
  {
   "cell_type": "code",
   "execution_count": 19,
   "metadata": {
    "dotnet_interactive": {
     "language": "csharp"
    },
    "vscode": {
     "languageId": "polyglot-notebook"
    }
   },
   "outputs": [
    {
     "data": {
      "text/html": [
       "<table><thead><tr><th><i>index</i></th><th>value</th></tr></thead><tbody><tr><td>0</td><td><table id=\"table_638204547416557473\"><caption><h3 style=\"text-align: center;\">DataFrame - 39 rows </h3></caption><thead><tr><th><i>index</i></th><th> </th><th>Values</th></tr></thead><tbody><tr style=\"display: none\"><td><i><div class=\"dni-plaintext\"><pre>0</pre></div></i></td><td>Process ID</td><td>35968</td></tr><tr style=\"display: none\"><td><i><div class=\"dni-plaintext\"><pre>1</pre></div></i></td><td>Process Name</td><td>devenv</td></tr><tr style=\"display: none\"><td><i><div class=\"dni-plaintext\"><pre>2</pre></div></i></td><td>Commandline</td><td>&quot;C:\\Program Files\\Microsoft Visual Studio\\2022\\Enterprise\\Common7\\IDE\\devenv.exe&quot; </td></tr><tr style=\"display: none\"><td><i><div class=\"dni-plaintext\"><pre>3</pre></div></i></td><td>Process Duration (Sec)</td><td>794.96</td></tr><tr style=\"display: none\"><td><i><div class=\"dni-plaintext\"><pre>4</pre></div></i></td><td>Total Allocated MB</td><td>203.84</td></tr><tr style=\"display: none\"><td><i><div class=\"dni-plaintext\"><pre>5</pre></div></i></td><td>Max Size Peak MB</td><td>2372.7</td></tr><tr style=\"display: none\"><td><i><div class=\"dni-plaintext\"><pre>6</pre></div></i></td><td>GC Count</td><td>9</td></tr><tr style=\"display: none\"><td><i><div class=\"dni-plaintext\"><pre>7</pre></div></i></td><td>Heap Count</td><td>2</td></tr><tr style=\"display: none\"><td><i><div class=\"dni-plaintext\"><pre>8</pre></div></i></td><td>Gen0 Count</td><td>5</td></tr><tr style=\"display: none\"><td><i><div class=\"dni-plaintext\"><pre>9</pre></div></i></td><td>Gen1 Count</td><td>4</td></tr><tr style=\"display: none\"><td><i><div class=\"dni-plaintext\"><pre>10</pre></div></i></td><td>Ephemeral Count</td><td>9</td></tr><tr style=\"display: none\"><td><i><div class=\"dni-plaintext\"><pre>11</pre></div></i></td><td>Gen2 Blocking Count</td><td>0</td></tr><tr style=\"display: none\"><td><i><div class=\"dni-plaintext\"><pre>12</pre></div></i></td><td>BGC Count</td><td>0</td></tr><tr style=\"display: none\"><td><i><div class=\"dni-plaintext\"><pre>13</pre></div></i></td><td>Gen0 Total Pause Time MSec</td><td>202.69</td></tr><tr style=\"display: none\"><td><i><div class=\"dni-plaintext\"><pre>14</pre></div></i></td><td>Gen1 Total Pause Time MSec</td><td>181.69</td></tr><tr style=\"display: none\"><td><i><div class=\"dni-plaintext\"><pre>15</pre></div></i></td><td>Ephemeral Total Pause Time MSec</td><td>384.38</td></tr><tr style=\"display: none\"><td><i><div class=\"dni-plaintext\"><pre>16</pre></div></i></td><td>Blocking Gen2 Total Pause Time MSec</td><td>0</td></tr><tr style=\"display: none\"><td><i><div class=\"dni-plaintext\"><pre>17</pre></div></i></td><td>BGC Total Pause Time MSec</td><td>0</td></tr><tr style=\"display: none\"><td><i><div class=\"dni-plaintext\"><pre>18</pre></div></i></td><td>GC Pause Time %</td><td>0.05</td></tr><tr style=\"display: none\"><td><i><div class=\"dni-plaintext\"><pre>19</pre></div></i></td><td>Gen0 Total Promoted MB</td><td>0.76</td></tr><tr style=\"display: none\"><td><i><div class=\"dni-plaintext\"><pre>20</pre></div></i></td><td>Gen1 Total Promoted MB</td><td>0.56</td></tr><tr style=\"display: none\"><td><i><div class=\"dni-plaintext\"><pre>21</pre></div></i></td><td>Ephemeral Total Promoted MB</td><td>1.32</td></tr><tr style=\"display: none\"><td><i><div class=\"dni-plaintext\"><pre>22</pre></div></i></td><td>BGC Total Promoted MB</td><td>0</td></tr><tr style=\"display: none\"><td><i><div class=\"dni-plaintext\"><pre>23</pre></div></i></td><td>Gen2 Total Promoted MB - Blocking</td><td>0</td></tr><tr style=\"display: none\"><td><i><div class=\"dni-plaintext\"><pre>24</pre></div></i></td><td>Mean Size Before MB</td><td>2372.25</td></tr><tr style=\"display: none\"><td><i><div class=\"dni-plaintext\"><pre>25</pre></div></i></td><td>Mean Size After MB</td><td>2363.99</td></tr><tr style=\"display: none\"><td><i><div class=\"dni-plaintext\"><pre>26</pre></div></i></td><td>Ephemeral Average Speed (MB/MSec)</td><td>0</td></tr><tr style=\"display: none\"><td><i><div class=\"dni-plaintext\"><pre>27</pre></div></i></td><td>Gen0 Average Speed (MB/MSec)</td><td>0</td></tr><tr style=\"display: none\"><td><i><div class=\"dni-plaintext\"><pre>28</pre></div></i></td><td>Gen1 Average Speed (MB/MSec)</td><td>0</td></tr><tr style=\"display: none\"><td><i><div class=\"dni-plaintext\"><pre>29</pre></div></i></td><td>Avg. Gen0 Pause Time (ms)</td><td>40.54</td></tr><tr style=\"display: none\"><td><i><div class=\"dni-plaintext\"><pre>30</pre></div></i></td><td>Avg. Gen1 Pause Time (ms)</td><td>45.42</td></tr><tr style=\"display: none\"><td><i><div class=\"dni-plaintext\"><pre>31</pre></div></i></td><td>Avg. Gen0 Promoted (mb)</td><td>0.15</td></tr><tr style=\"display: none\"><td><i><div class=\"dni-plaintext\"><pre>32</pre></div></i></td><td>Avg. Gen1 Promoted (mb)</td><td>0.14</td></tr><tr style=\"display: none\"><td><i><div class=\"dni-plaintext\"><pre>33</pre></div></i></td><td>Avg. Gen0 Speed (mb/ms)</td><td>0</td></tr><tr style=\"display: none\"><td><i><div class=\"dni-plaintext\"><pre>34</pre></div></i></td><td>Avg. Gen1 Speed (mb/ms)</td><td>0</td></tr><tr style=\"display: none\"><td><i><div class=\"dni-plaintext\"><pre>35</pre></div></i></td><td>Avg. Gen0 Promoted (mb) / heap</td><td>0.08</td></tr><tr style=\"display: none\"><td><i><div class=\"dni-plaintext\"><pre>36</pre></div></i></td><td>Avg. Gen1 Promoted (mb) / heap</td><td>0.07</td></tr><tr style=\"display: none\"><td><i><div class=\"dni-plaintext\"><pre>37</pre></div></i></td><td>Avg. Gen0 Speed (mb/ms) / heap</td><td>0</td></tr><tr style=\"display: none\"><td><i><div class=\"dni-plaintext\"><pre>38</pre></div></i></td><td>Avg. Gen1 Speed (mb/ms) / heap</td><td>0</td></tr></tbody><tfoot><tr><td colspan=\"3\" style=\"text-align: center;\"><button style=\"margin: 2px;\" onclick=\"var allRows = document.querySelectorAll(&#39;#table_638204547416557473 tbody tr:nth-child(n)&#39;); for (let i = 0; i &lt; allRows.length; i++) { allRows[i].style.display=&#39;none&#39;; } document.querySelector(&#39;#page_638204547416557473&#39;).innerHTML = 1; var page = parseInt(document.querySelector(&#39;#page_638204547416557473&#39;).innerHTML) - 1; var pageRows = document.querySelectorAll(`#table_638204547416557473 tbody tr:nth-child(n + ${page * 25 + 1 })`); for (let j = 0; j &lt; 25; j++) { pageRows[j].style.display=&#39;table-row&#39;; } \">⏮</button><button style=\"margin: 2px;\" onclick=\"var allRows = document.querySelectorAll(&#39;#table_638204547416557473 tbody tr:nth-child(n)&#39;); for (let i = 0; i &lt; allRows.length; i++) { allRows[i].style.display=&#39;none&#39;; } var page = parseInt(document.querySelector(&#39;#page_638204547416557473&#39;).innerHTML) - 1; page = parseInt(page) + parseInt(-10); page = page &lt; 0 ? 0 : page; page = page > 1 ? 1 : page; document.querySelector(&#39;#page_638204547416557473&#39;).innerHTML = page + 1; var page = parseInt(document.querySelector(&#39;#page_638204547416557473&#39;).innerHTML) - 1; var pageRows = document.querySelectorAll(`#table_638204547416557473 tbody tr:nth-child(n + ${page * 25 + 1 })`); for (let j = 0; j &lt; 25; j++) { pageRows[j].style.display=&#39;table-row&#39;; } \">⏪</button><button style=\"margin: 2px;\" onclick=\"var allRows = document.querySelectorAll(&#39;#table_638204547416557473 tbody tr:nth-child(n)&#39;); for (let i = 0; i &lt; allRows.length; i++) { allRows[i].style.display=&#39;none&#39;; } var page = parseInt(document.querySelector(&#39;#page_638204547416557473&#39;).innerHTML) - 1; page = parseInt(page) + parseInt(-1); page = page &lt; 0 ? 0 : page; page = page > 1 ? 1 : page; document.querySelector(&#39;#page_638204547416557473&#39;).innerHTML = page + 1; var page = parseInt(document.querySelector(&#39;#page_638204547416557473&#39;).innerHTML) - 1; var pageRows = document.querySelectorAll(`#table_638204547416557473 tbody tr:nth-child(n + ${page * 25 + 1 })`); for (let j = 0; j &lt; 25; j++) { pageRows[j].style.display=&#39;table-row&#39;; } \">◀️</button><b style=\"margin: 2px;\">Page</b><b id=\"page_638204547416557473\" style=\"margin: 2px;\">1</b><button style=\"margin: 2px;\" onclick=\"var allRows = document.querySelectorAll(&#39;#table_638204547416557473 tbody tr:nth-child(n)&#39;); for (let i = 0; i &lt; allRows.length; i++) { allRows[i].style.display=&#39;none&#39;; } var page = parseInt(document.querySelector(&#39;#page_638204547416557473&#39;).innerHTML) - 1; page = parseInt(page) + parseInt(1); page = page &lt; 0 ? 0 : page; page = page > 1 ? 1 : page; document.querySelector(&#39;#page_638204547416557473&#39;).innerHTML = page + 1; var page = parseInt(document.querySelector(&#39;#page_638204547416557473&#39;).innerHTML) - 1; var pageRows = document.querySelectorAll(`#table_638204547416557473 tbody tr:nth-child(n + ${page * 25 + 1 })`); for (let j = 0; j &lt; 25; j++) { pageRows[j].style.display=&#39;table-row&#39;; } \">▶️</button><button style=\"margin: 2px;\" onclick=\"var allRows = document.querySelectorAll(&#39;#table_638204547416557473 tbody tr:nth-child(n)&#39;); for (let i = 0; i &lt; allRows.length; i++) { allRows[i].style.display=&#39;none&#39;; } var page = parseInt(document.querySelector(&#39;#page_638204547416557473&#39;).innerHTML) - 1; page = parseInt(page) + parseInt(10); page = page &lt; 0 ? 0 : page; page = page > 1 ? 1 : page; document.querySelector(&#39;#page_638204547416557473&#39;).innerHTML = page + 1; var page = parseInt(document.querySelector(&#39;#page_638204547416557473&#39;).innerHTML) - 1; var pageRows = document.querySelectorAll(`#table_638204547416557473 tbody tr:nth-child(n + ${page * 25 + 1 })`); for (let j = 0; j &lt; 25; j++) { pageRows[j].style.display=&#39;table-row&#39;; } \">⏩</button><button style=\"margin: 2px;\" onclick=\"var allRows = document.querySelectorAll(&#39;#table_638204547416557473 tbody tr:nth-child(n)&#39;); for (let i = 0; i &lt; allRows.length; i++) { allRows[i].style.display=&#39;none&#39;; } document.querySelector(&#39;#page_638204547416557473&#39;).innerHTML = 2; var page = parseInt(document.querySelector(&#39;#page_638204547416557473&#39;).innerHTML) - 1; var pageRows = document.querySelectorAll(`#table_638204547416557473 tbody tr:nth-child(n + ${page * 25 + 1 })`); for (let j = 0; j &lt; 25; j++) { pageRows[j].style.display=&#39;table-row&#39;; } \">⏭️</button></td></tr></tfoot></table><style>\r\n",
       ".dni-code-hint {\r\n",
       "    font-style: italic;\r\n",
       "    overflow: hidden;\r\n",
       "    white-space: nowrap;\r\n",
       "}\r\n",
       ".dni-treeview {\r\n",
       "    white-space: nowrap;\r\n",
       "}\r\n",
       ".dni-treeview td {\r\n",
       "    vertical-align: top;\r\n",
       "    text-align: start;\r\n",
       "}\r\n",
       "details.dni-treeview {\r\n",
       "    padding-left: 1em;\r\n",
       "}\r\n",
       "table td {\r\n",
       "    text-align: start;\r\n",
       "}\r\n",
       "table tr { \r\n",
       "    vertical-align: top; \r\n",
       "    margin: 0em 0px;\r\n",
       "}\r\n",
       "table tr td pre \r\n",
       "{ \r\n",
       "    vertical-align: top !important; \r\n",
       "    margin: 0em 0px !important;\r\n",
       "} \r\n",
       "table th {\r\n",
       "    text-align: start;\r\n",
       "}\r\n",
       "</style><script>var page = parseInt(document.querySelector('#page_638204547416557473').innerHTML) - 1; var pageRows = document.querySelectorAll(`#table_638204547416557473 tbody tr:nth-child(n + ${page * 25 + 1 })`); for (let j = 0; j < 25; j++) { pageRows[j].style.display='table-row'; } </script></td></tr><tr><td>1</td><td><table id=\"table_638204547416560111\"><caption><h3 style=\"text-align: center;\">DataFrame - 39 rows </h3></caption><thead><tr><th><i>index</i></th><th> </th><th>Values</th></tr></thead><tbody><tr style=\"display: none\"><td><i><div class=\"dni-plaintext\"><pre>0</pre></div></i></td><td>Process ID</td><td>34852</td></tr><tr style=\"display: none\"><td><i><div class=\"dni-plaintext\"><pre>1</pre></div></i></td><td>Process Name</td><td>devenv</td></tr><tr style=\"display: none\"><td><i><div class=\"dni-plaintext\"><pre>2</pre></div></i></td><td>Commandline</td><td>&quot;C:\\Program Files\\Microsoft Visual Studio\\2022\\Enterprise\\Common7\\IDE\\devenv.exe&quot; </td></tr><tr style=\"display: none\"><td><i><div class=\"dni-plaintext\"><pre>3</pre></div></i></td><td>Process Duration (Sec)</td><td>591.24</td></tr><tr style=\"display: none\"><td><i><div class=\"dni-plaintext\"><pre>4</pre></div></i></td><td>Total Allocated MB</td><td>2044.06</td></tr><tr style=\"display: none\"><td><i><div class=\"dni-plaintext\"><pre>5</pre></div></i></td><td>Max Size Peak MB</td><td>1036.61</td></tr><tr style=\"display: none\"><td><i><div class=\"dni-plaintext\"><pre>6</pre></div></i></td><td>GC Count</td><td>21</td></tr><tr style=\"display: none\"><td><i><div class=\"dni-plaintext\"><pre>7</pre></div></i></td><td>Heap Count</td><td>2</td></tr><tr style=\"display: none\"><td><i><div class=\"dni-plaintext\"><pre>8</pre></div></i></td><td>Gen0 Count</td><td>13</td></tr><tr style=\"display: none\"><td><i><div class=\"dni-plaintext\"><pre>9</pre></div></i></td><td>Gen1 Count</td><td>6</td></tr><tr style=\"display: none\"><td><i><div class=\"dni-plaintext\"><pre>10</pre></div></i></td><td>Ephemeral Count</td><td>19</td></tr><tr style=\"display: none\"><td><i><div class=\"dni-plaintext\"><pre>11</pre></div></i></td><td>Gen2 Blocking Count</td><td>0</td></tr><tr style=\"display: none\"><td><i><div class=\"dni-plaintext\"><pre>12</pre></div></i></td><td>BGC Count</td><td>2</td></tr><tr style=\"display: none\"><td><i><div class=\"dni-plaintext\"><pre>13</pre></div></i></td><td>Gen0 Total Pause Time MSec</td><td>415.3</td></tr><tr style=\"display: none\"><td><i><div class=\"dni-plaintext\"><pre>14</pre></div></i></td><td>Gen1 Total Pause Time MSec</td><td>304.16</td></tr><tr style=\"display: none\"><td><i><div class=\"dni-plaintext\"><pre>15</pre></div></i></td><td>Ephemeral Total Pause Time MSec</td><td>719.46</td></tr><tr style=\"display: none\"><td><i><div class=\"dni-plaintext\"><pre>16</pre></div></i></td><td>Blocking Gen2 Total Pause Time MSec</td><td>0</td></tr><tr style=\"display: none\"><td><i><div class=\"dni-plaintext\"><pre>17</pre></div></i></td><td>BGC Total Pause Time MSec</td><td>81.47</td></tr><tr style=\"display: none\"><td><i><div class=\"dni-plaintext\"><pre>18</pre></div></i></td><td>GC Pause Time %</td><td>0.14</td></tr><tr style=\"display: none\"><td><i><div class=\"dni-plaintext\"><pre>19</pre></div></i></td><td>Gen0 Total Promoted MB</td><td>82.28</td></tr><tr style=\"display: none\"><td><i><div class=\"dni-plaintext\"><pre>20</pre></div></i></td><td>Gen1 Total Promoted MB</td><td>103.61</td></tr><tr style=\"display: none\"><td><i><div class=\"dni-plaintext\"><pre>21</pre></div></i></td><td>Ephemeral Total Promoted MB</td><td>185.89</td></tr><tr style=\"display: none\"><td><i><div class=\"dni-plaintext\"><pre>22</pre></div></i></td><td>BGC Total Promoted MB</td><td>1239.38</td></tr><tr style=\"display: none\"><td><i><div class=\"dni-plaintext\"><pre>23</pre></div></i></td><td>Gen2 Total Promoted MB - Blocking</td><td>0</td></tr><tr style=\"display: none\"><td><i><div class=\"dni-plaintext\"><pre>24</pre></div></i></td><td>Mean Size Before MB</td><td>990.74</td></tr><tr style=\"display: none\"><td><i><div class=\"dni-plaintext\"><pre>25</pre></div></i></td><td>Mean Size After MB</td><td>973.59</td></tr><tr style=\"display: none\"><td><i><div class=\"dni-plaintext\"><pre>26</pre></div></i></td><td>Ephemeral Average Speed (MB/MSec)</td><td>0.26</td></tr><tr style=\"display: none\"><td><i><div class=\"dni-plaintext\"><pre>27</pre></div></i></td><td>Gen0 Average Speed (MB/MSec)</td><td>0.2</td></tr><tr style=\"display: none\"><td><i><div class=\"dni-plaintext\"><pre>28</pre></div></i></td><td>Gen1 Average Speed (MB/MSec)</td><td>0.34</td></tr><tr style=\"display: none\"><td><i><div class=\"dni-plaintext\"><pre>29</pre></div></i></td><td>Avg. Gen0 Pause Time (ms)</td><td>31.95</td></tr><tr style=\"display: none\"><td><i><div class=\"dni-plaintext\"><pre>30</pre></div></i></td><td>Avg. Gen1 Pause Time (ms)</td><td>50.69</td></tr><tr style=\"display: none\"><td><i><div class=\"dni-plaintext\"><pre>31</pre></div></i></td><td>Avg. Gen0 Promoted (mb)</td><td>6.33</td></tr><tr style=\"display: none\"><td><i><div class=\"dni-plaintext\"><pre>32</pre></div></i></td><td>Avg. Gen1 Promoted (mb)</td><td>17.27</td></tr><tr style=\"display: none\"><td><i><div class=\"dni-plaintext\"><pre>33</pre></div></i></td><td>Avg. Gen0 Speed (mb/ms)</td><td>0.2</td></tr><tr style=\"display: none\"><td><i><div class=\"dni-plaintext\"><pre>34</pre></div></i></td><td>Avg. Gen1 Speed (mb/ms)</td><td>0.34</td></tr><tr style=\"display: none\"><td><i><div class=\"dni-plaintext\"><pre>35</pre></div></i></td><td>Avg. Gen0 Promoted (mb) / heap</td><td>3.16</td></tr><tr style=\"display: none\"><td><i><div class=\"dni-plaintext\"><pre>36</pre></div></i></td><td>Avg. Gen1 Promoted (mb) / heap</td><td>8.63</td></tr><tr style=\"display: none\"><td><i><div class=\"dni-plaintext\"><pre>37</pre></div></i></td><td>Avg. Gen0 Speed (mb/ms) / heap</td><td>0.1</td></tr><tr style=\"display: none\"><td><i><div class=\"dni-plaintext\"><pre>38</pre></div></i></td><td>Avg. Gen1 Speed (mb/ms) / heap</td><td>0.17</td></tr></tbody><tfoot><tr><td colspan=\"3\" style=\"text-align: center;\"><button style=\"margin: 2px;\" onclick=\"var allRows = document.querySelectorAll(&#39;#table_638204547416560111 tbody tr:nth-child(n)&#39;); for (let i = 0; i &lt; allRows.length; i++) { allRows[i].style.display=&#39;none&#39;; } document.querySelector(&#39;#page_638204547416560111&#39;).innerHTML = 1; var page = parseInt(document.querySelector(&#39;#page_638204547416560111&#39;).innerHTML) - 1; var pageRows = document.querySelectorAll(`#table_638204547416560111 tbody tr:nth-child(n + ${page * 25 + 1 })`); for (let j = 0; j &lt; 25; j++) { pageRows[j].style.display=&#39;table-row&#39;; } \">⏮</button><button style=\"margin: 2px;\" onclick=\"var allRows = document.querySelectorAll(&#39;#table_638204547416560111 tbody tr:nth-child(n)&#39;); for (let i = 0; i &lt; allRows.length; i++) { allRows[i].style.display=&#39;none&#39;; } var page = parseInt(document.querySelector(&#39;#page_638204547416560111&#39;).innerHTML) - 1; page = parseInt(page) + parseInt(-10); page = page &lt; 0 ? 0 : page; page = page > 1 ? 1 : page; document.querySelector(&#39;#page_638204547416560111&#39;).innerHTML = page + 1; var page = parseInt(document.querySelector(&#39;#page_638204547416560111&#39;).innerHTML) - 1; var pageRows = document.querySelectorAll(`#table_638204547416560111 tbody tr:nth-child(n + ${page * 25 + 1 })`); for (let j = 0; j &lt; 25; j++) { pageRows[j].style.display=&#39;table-row&#39;; } \">⏪</button><button style=\"margin: 2px;\" onclick=\"var allRows = document.querySelectorAll(&#39;#table_638204547416560111 tbody tr:nth-child(n)&#39;); for (let i = 0; i &lt; allRows.length; i++) { allRows[i].style.display=&#39;none&#39;; } var page = parseInt(document.querySelector(&#39;#page_638204547416560111&#39;).innerHTML) - 1; page = parseInt(page) + parseInt(-1); page = page &lt; 0 ? 0 : page; page = page > 1 ? 1 : page; document.querySelector(&#39;#page_638204547416560111&#39;).innerHTML = page + 1; var page = parseInt(document.querySelector(&#39;#page_638204547416560111&#39;).innerHTML) - 1; var pageRows = document.querySelectorAll(`#table_638204547416560111 tbody tr:nth-child(n + ${page * 25 + 1 })`); for (let j = 0; j &lt; 25; j++) { pageRows[j].style.display=&#39;table-row&#39;; } \">◀️</button><b style=\"margin: 2px;\">Page</b><b id=\"page_638204547416560111\" style=\"margin: 2px;\">1</b><button style=\"margin: 2px;\" onclick=\"var allRows = document.querySelectorAll(&#39;#table_638204547416560111 tbody tr:nth-child(n)&#39;); for (let i = 0; i &lt; allRows.length; i++) { allRows[i].style.display=&#39;none&#39;; } var page = parseInt(document.querySelector(&#39;#page_638204547416560111&#39;).innerHTML) - 1; page = parseInt(page) + parseInt(1); page = page &lt; 0 ? 0 : page; page = page > 1 ? 1 : page; document.querySelector(&#39;#page_638204547416560111&#39;).innerHTML = page + 1; var page = parseInt(document.querySelector(&#39;#page_638204547416560111&#39;).innerHTML) - 1; var pageRows = document.querySelectorAll(`#table_638204547416560111 tbody tr:nth-child(n + ${page * 25 + 1 })`); for (let j = 0; j &lt; 25; j++) { pageRows[j].style.display=&#39;table-row&#39;; } \">▶️</button><button style=\"margin: 2px;\" onclick=\"var allRows = document.querySelectorAll(&#39;#table_638204547416560111 tbody tr:nth-child(n)&#39;); for (let i = 0; i &lt; allRows.length; i++) { allRows[i].style.display=&#39;none&#39;; } var page = parseInt(document.querySelector(&#39;#page_638204547416560111&#39;).innerHTML) - 1; page = parseInt(page) + parseInt(10); page = page &lt; 0 ? 0 : page; page = page > 1 ? 1 : page; document.querySelector(&#39;#page_638204547416560111&#39;).innerHTML = page + 1; var page = parseInt(document.querySelector(&#39;#page_638204547416560111&#39;).innerHTML) - 1; var pageRows = document.querySelectorAll(`#table_638204547416560111 tbody tr:nth-child(n + ${page * 25 + 1 })`); for (let j = 0; j &lt; 25; j++) { pageRows[j].style.display=&#39;table-row&#39;; } \">⏩</button><button style=\"margin: 2px;\" onclick=\"var allRows = document.querySelectorAll(&#39;#table_638204547416560111 tbody tr:nth-child(n)&#39;); for (let i = 0; i &lt; allRows.length; i++) { allRows[i].style.display=&#39;none&#39;; } document.querySelector(&#39;#page_638204547416560111&#39;).innerHTML = 2; var page = parseInt(document.querySelector(&#39;#page_638204547416560111&#39;).innerHTML) - 1; var pageRows = document.querySelectorAll(`#table_638204547416560111 tbody tr:nth-child(n + ${page * 25 + 1 })`); for (let j = 0; j &lt; 25; j++) { pageRows[j].style.display=&#39;table-row&#39;; } \">⏭️</button></td></tr></tfoot></table><style>\r\n",
       ".dni-code-hint {\r\n",
       "    font-style: italic;\r\n",
       "    overflow: hidden;\r\n",
       "    white-space: nowrap;\r\n",
       "}\r\n",
       ".dni-treeview {\r\n",
       "    white-space: nowrap;\r\n",
       "}\r\n",
       ".dni-treeview td {\r\n",
       "    vertical-align: top;\r\n",
       "    text-align: start;\r\n",
       "}\r\n",
       "details.dni-treeview {\r\n",
       "    padding-left: 1em;\r\n",
       "}\r\n",
       "table td {\r\n",
       "    text-align: start;\r\n",
       "}\r\n",
       "table tr { \r\n",
       "    vertical-align: top; \r\n",
       "    margin: 0em 0px;\r\n",
       "}\r\n",
       "table tr td pre \r\n",
       "{ \r\n",
       "    vertical-align: top !important; \r\n",
       "    margin: 0em 0px !important;\r\n",
       "} \r\n",
       "table th {\r\n",
       "    text-align: start;\r\n",
       "}\r\n",
       "</style><script>var page = parseInt(document.querySelector('#page_638204547416560111').innerHTML) - 1; var pageRows = document.querySelectorAll(`#table_638204547416560111 tbody tr:nth-child(n + ${page * 25 + 1 })`); for (let j = 0; j < 25; j++) { pageRows[j].style.display='table-row'; } </script></td></tr><tr><td>2</td><td><table id=\"table_638204547416561737\"><caption><h3 style=\"text-align: center;\">DataFrame - 39 rows </h3></caption><thead><tr><th><i>index</i></th><th> </th><th>Values</th></tr></thead><tbody><tr style=\"display: none\"><td><i><div class=\"dni-plaintext\"><pre>0</pre></div></i></td><td>Process ID</td><td>42652</td></tr><tr style=\"display: none\"><td><i><div class=\"dni-plaintext\"><pre>1</pre></div></i></td><td>Process Name</td><td>devenv</td></tr><tr style=\"display: none\"><td><i><div class=\"dni-plaintext\"><pre>2</pre></div></i></td><td>Commandline</td><td>&quot;C:\\Program Files\\Microsoft Visual Studio\\2022\\Enterprise\\Common7\\IDE\\devenv.exe&quot; </td></tr><tr style=\"display: none\"><td><i><div class=\"dni-plaintext\"><pre>3</pre></div></i></td><td>Process Duration (Sec)</td><td>460.73</td></tr><tr style=\"display: none\"><td><i><div class=\"dni-plaintext\"><pre>4</pre></div></i></td><td>Total Allocated MB</td><td>202.35</td></tr><tr style=\"display: none\"><td><i><div class=\"dni-plaintext\"><pre>5</pre></div></i></td><td>Max Size Peak MB</td><td>521.63</td></tr><tr style=\"display: none\"><td><i><div class=\"dni-plaintext\"><pre>6</pre></div></i></td><td>GC Count</td><td>7</td></tr><tr style=\"display: none\"><td><i><div class=\"dni-plaintext\"><pre>7</pre></div></i></td><td>Heap Count</td><td>2</td></tr><tr style=\"display: none\"><td><i><div class=\"dni-plaintext\"><pre>8</pre></div></i></td><td>Gen0 Count</td><td>5</td></tr><tr style=\"display: none\"><td><i><div class=\"dni-plaintext\"><pre>9</pre></div></i></td><td>Gen1 Count</td><td>1</td></tr><tr style=\"display: none\"><td><i><div class=\"dni-plaintext\"><pre>10</pre></div></i></td><td>Ephemeral Count</td><td>6</td></tr><tr style=\"display: none\"><td><i><div class=\"dni-plaintext\"><pre>11</pre></div></i></td><td>Gen2 Blocking Count</td><td>0</td></tr><tr style=\"display: none\"><td><i><div class=\"dni-plaintext\"><pre>12</pre></div></i></td><td>BGC Count</td><td>1</td></tr><tr style=\"display: none\"><td><i><div class=\"dni-plaintext\"><pre>13</pre></div></i></td><td>Gen0 Total Pause Time MSec</td><td>190.42</td></tr><tr style=\"display: none\"><td><i><div class=\"dni-plaintext\"><pre>14</pre></div></i></td><td>Gen1 Total Pause Time MSec</td><td>51.79</td></tr><tr style=\"display: none\"><td><i><div class=\"dni-plaintext\"><pre>15</pre></div></i></td><td>Ephemeral Total Pause Time MSec</td><td>242.21</td></tr><tr style=\"display: none\"><td><i><div class=\"dni-plaintext\"><pre>16</pre></div></i></td><td>Blocking Gen2 Total Pause Time MSec</td><td>0</td></tr><tr style=\"display: none\"><td><i><div class=\"dni-plaintext\"><pre>17</pre></div></i></td><td>BGC Total Pause Time MSec</td><td>6.55</td></tr><tr style=\"display: none\"><td><i><div class=\"dni-plaintext\"><pre>18</pre></div></i></td><td>GC Pause Time %</td><td>0.05</td></tr><tr style=\"display: none\"><td><i><div class=\"dni-plaintext\"><pre>19</pre></div></i></td><td>Gen0 Total Promoted MB</td><td>4.72</td></tr><tr style=\"display: none\"><td><i><div class=\"dni-plaintext\"><pre>20</pre></div></i></td><td>Gen1 Total Promoted MB</td><td>6.78</td></tr><tr style=\"display: none\"><td><i><div class=\"dni-plaintext\"><pre>21</pre></div></i></td><td>Ephemeral Total Promoted MB</td><td>11.5</td></tr><tr style=\"display: none\"><td><i><div class=\"dni-plaintext\"><pre>22</pre></div></i></td><td>BGC Total Promoted MB</td><td>293.42</td></tr><tr style=\"display: none\"><td><i><div class=\"dni-plaintext\"><pre>23</pre></div></i></td><td>Gen2 Total Promoted MB - Blocking</td><td>0</td></tr><tr style=\"display: none\"><td><i><div class=\"dni-plaintext\"><pre>24</pre></div></i></td><td>Mean Size Before MB</td><td>501.04</td></tr><tr style=\"display: none\"><td><i><div class=\"dni-plaintext\"><pre>25</pre></div></i></td><td>Mean Size After MB</td><td>483.47</td></tr><tr style=\"display: none\"><td><i><div class=\"dni-plaintext\"><pre>26</pre></div></i></td><td>Ephemeral Average Speed (MB/MSec)</td><td>0.05</td></tr><tr style=\"display: none\"><td><i><div class=\"dni-plaintext\"><pre>27</pre></div></i></td><td>Gen0 Average Speed (MB/MSec)</td><td>0.02</td></tr><tr style=\"display: none\"><td><i><div class=\"dni-plaintext\"><pre>28</pre></div></i></td><td>Gen1 Average Speed (MB/MSec)</td><td>0.13</td></tr><tr style=\"display: none\"><td><i><div class=\"dni-plaintext\"><pre>29</pre></div></i></td><td>Avg. Gen0 Pause Time (ms)</td><td>38.08</td></tr><tr style=\"display: none\"><td><i><div class=\"dni-plaintext\"><pre>30</pre></div></i></td><td>Avg. Gen1 Pause Time (ms)</td><td>51.79</td></tr><tr style=\"display: none\"><td><i><div class=\"dni-plaintext\"><pre>31</pre></div></i></td><td>Avg. Gen0 Promoted (mb)</td><td>0.94</td></tr><tr style=\"display: none\"><td><i><div class=\"dni-plaintext\"><pre>32</pre></div></i></td><td>Avg. Gen1 Promoted (mb)</td><td>6.78</td></tr><tr style=\"display: none\"><td><i><div class=\"dni-plaintext\"><pre>33</pre></div></i></td><td>Avg. Gen0 Speed (mb/ms)</td><td>0.02</td></tr><tr style=\"display: none\"><td><i><div class=\"dni-plaintext\"><pre>34</pre></div></i></td><td>Avg. Gen1 Speed (mb/ms)</td><td>0.13</td></tr><tr style=\"display: none\"><td><i><div class=\"dni-plaintext\"><pre>35</pre></div></i></td><td>Avg. Gen0 Promoted (mb) / heap</td><td>0.47</td></tr><tr style=\"display: none\"><td><i><div class=\"dni-plaintext\"><pre>36</pre></div></i></td><td>Avg. Gen1 Promoted (mb) / heap</td><td>3.39</td></tr><tr style=\"display: none\"><td><i><div class=\"dni-plaintext\"><pre>37</pre></div></i></td><td>Avg. Gen0 Speed (mb/ms) / heap</td><td>0.01</td></tr><tr style=\"display: none\"><td><i><div class=\"dni-plaintext\"><pre>38</pre></div></i></td><td>Avg. Gen1 Speed (mb/ms) / heap</td><td>0.07</td></tr></tbody><tfoot><tr><td colspan=\"3\" style=\"text-align: center;\"><button style=\"margin: 2px;\" onclick=\"var allRows = document.querySelectorAll(&#39;#table_638204547416561737 tbody tr:nth-child(n)&#39;); for (let i = 0; i &lt; allRows.length; i++) { allRows[i].style.display=&#39;none&#39;; } document.querySelector(&#39;#page_638204547416561737&#39;).innerHTML = 1; var page = parseInt(document.querySelector(&#39;#page_638204547416561737&#39;).innerHTML) - 1; var pageRows = document.querySelectorAll(`#table_638204547416561737 tbody tr:nth-child(n + ${page * 25 + 1 })`); for (let j = 0; j &lt; 25; j++) { pageRows[j].style.display=&#39;table-row&#39;; } \">⏮</button><button style=\"margin: 2px;\" onclick=\"var allRows = document.querySelectorAll(&#39;#table_638204547416561737 tbody tr:nth-child(n)&#39;); for (let i = 0; i &lt; allRows.length; i++) { allRows[i].style.display=&#39;none&#39;; } var page = parseInt(document.querySelector(&#39;#page_638204547416561737&#39;).innerHTML) - 1; page = parseInt(page) + parseInt(-10); page = page &lt; 0 ? 0 : page; page = page > 1 ? 1 : page; document.querySelector(&#39;#page_638204547416561737&#39;).innerHTML = page + 1; var page = parseInt(document.querySelector(&#39;#page_638204547416561737&#39;).innerHTML) - 1; var pageRows = document.querySelectorAll(`#table_638204547416561737 tbody tr:nth-child(n + ${page * 25 + 1 })`); for (let j = 0; j &lt; 25; j++) { pageRows[j].style.display=&#39;table-row&#39;; } \">⏪</button><button style=\"margin: 2px;\" onclick=\"var allRows = document.querySelectorAll(&#39;#table_638204547416561737 tbody tr:nth-child(n)&#39;); for (let i = 0; i &lt; allRows.length; i++) { allRows[i].style.display=&#39;none&#39;; } var page = parseInt(document.querySelector(&#39;#page_638204547416561737&#39;).innerHTML) - 1; page = parseInt(page) + parseInt(-1); page = page &lt; 0 ? 0 : page; page = page > 1 ? 1 : page; document.querySelector(&#39;#page_638204547416561737&#39;).innerHTML = page + 1; var page = parseInt(document.querySelector(&#39;#page_638204547416561737&#39;).innerHTML) - 1; var pageRows = document.querySelectorAll(`#table_638204547416561737 tbody tr:nth-child(n + ${page * 25 + 1 })`); for (let j = 0; j &lt; 25; j++) { pageRows[j].style.display=&#39;table-row&#39;; } \">◀️</button><b style=\"margin: 2px;\">Page</b><b id=\"page_638204547416561737\" style=\"margin: 2px;\">1</b><button style=\"margin: 2px;\" onclick=\"var allRows = document.querySelectorAll(&#39;#table_638204547416561737 tbody tr:nth-child(n)&#39;); for (let i = 0; i &lt; allRows.length; i++) { allRows[i].style.display=&#39;none&#39;; } var page = parseInt(document.querySelector(&#39;#page_638204547416561737&#39;).innerHTML) - 1; page = parseInt(page) + parseInt(1); page = page &lt; 0 ? 0 : page; page = page > 1 ? 1 : page; document.querySelector(&#39;#page_638204547416561737&#39;).innerHTML = page + 1; var page = parseInt(document.querySelector(&#39;#page_638204547416561737&#39;).innerHTML) - 1; var pageRows = document.querySelectorAll(`#table_638204547416561737 tbody tr:nth-child(n + ${page * 25 + 1 })`); for (let j = 0; j &lt; 25; j++) { pageRows[j].style.display=&#39;table-row&#39;; } \">▶️</button><button style=\"margin: 2px;\" onclick=\"var allRows = document.querySelectorAll(&#39;#table_638204547416561737 tbody tr:nth-child(n)&#39;); for (let i = 0; i &lt; allRows.length; i++) { allRows[i].style.display=&#39;none&#39;; } var page = parseInt(document.querySelector(&#39;#page_638204547416561737&#39;).innerHTML) - 1; page = parseInt(page) + parseInt(10); page = page &lt; 0 ? 0 : page; page = page > 1 ? 1 : page; document.querySelector(&#39;#page_638204547416561737&#39;).innerHTML = page + 1; var page = parseInt(document.querySelector(&#39;#page_638204547416561737&#39;).innerHTML) - 1; var pageRows = document.querySelectorAll(`#table_638204547416561737 tbody tr:nth-child(n + ${page * 25 + 1 })`); for (let j = 0; j &lt; 25; j++) { pageRows[j].style.display=&#39;table-row&#39;; } \">⏩</button><button style=\"margin: 2px;\" onclick=\"var allRows = document.querySelectorAll(&#39;#table_638204547416561737 tbody tr:nth-child(n)&#39;); for (let i = 0; i &lt; allRows.length; i++) { allRows[i].style.display=&#39;none&#39;; } document.querySelector(&#39;#page_638204547416561737&#39;).innerHTML = 2; var page = parseInt(document.querySelector(&#39;#page_638204547416561737&#39;).innerHTML) - 1; var pageRows = document.querySelectorAll(`#table_638204547416561737 tbody tr:nth-child(n + ${page * 25 + 1 })`); for (let j = 0; j &lt; 25; j++) { pageRows[j].style.display=&#39;table-row&#39;; } \">⏭️</button></td></tr></tfoot></table><style>\r\n",
       ".dni-code-hint {\r\n",
       "    font-style: italic;\r\n",
       "    overflow: hidden;\r\n",
       "    white-space: nowrap;\r\n",
       "}\r\n",
       ".dni-treeview {\r\n",
       "    white-space: nowrap;\r\n",
       "}\r\n",
       ".dni-treeview td {\r\n",
       "    vertical-align: top;\r\n",
       "    text-align: start;\r\n",
       "}\r\n",
       "details.dni-treeview {\r\n",
       "    padding-left: 1em;\r\n",
       "}\r\n",
       "table td {\r\n",
       "    text-align: start;\r\n",
       "}\r\n",
       "table tr { \r\n",
       "    vertical-align: top; \r\n",
       "    margin: 0em 0px;\r\n",
       "}\r\n",
       "table tr td pre \r\n",
       "{ \r\n",
       "    vertical-align: top !important; \r\n",
       "    margin: 0em 0px !important;\r\n",
       "} \r\n",
       "table th {\r\n",
       "    text-align: start;\r\n",
       "}\r\n",
       "</style><script>var page = parseInt(document.querySelector('#page_638204547416561737').innerHTML) - 1; var pageRows = document.querySelectorAll(`#table_638204547416561737 tbody tr:nth-child(n + ${page * 25 + 1 })`); for (let j = 0; j < 25; j++) { pageRows[j].style.display='table-row'; } </script></td></tr></tbody></table><style>\r\n",
       ".dni-code-hint {\r\n",
       "    font-style: italic;\r\n",
       "    overflow: hidden;\r\n",
       "    white-space: nowrap;\r\n",
       "}\r\n",
       ".dni-treeview {\r\n",
       "    white-space: nowrap;\r\n",
       "}\r\n",
       ".dni-treeview td {\r\n",
       "    vertical-align: top;\r\n",
       "    text-align: start;\r\n",
       "}\r\n",
       "details.dni-treeview {\r\n",
       "    padding-left: 1em;\r\n",
       "}\r\n",
       "table td {\r\n",
       "    text-align: start;\r\n",
       "}\r\n",
       "table tr { \r\n",
       "    vertical-align: top; \r\n",
       "    margin: 0em 0px;\r\n",
       "}\r\n",
       "table tr td pre \r\n",
       "{ \r\n",
       "    vertical-align: top !important; \r\n",
       "    margin: 0em 0px !important;\r\n",
       "} \r\n",
       "table th {\r\n",
       "    text-align: start;\r\n",
       "}\r\n",
       "</style>"
      ]
     },
     "metadata": {},
     "output_type": "display_data"
    }
   ],
   "source": [
    "gcTraceData.Summarize(topN: 3, criteriaInGCStats: nameof(GCStats.MeanSizeAfterMB))"
   ]
  },
  {
   "attachments": {},
   "cell_type": "markdown",
   "metadata": {},
   "source": [
    "### Charting"
   ]
  },
  {
   "attachments": {},
   "cell_type": "markdown",
   "metadata": {},
   "source": [
    "#### Getting To a ``List<TraceGC>`` from the Trace Data For a Process"
   ]
  },
  {
   "cell_type": "code",
   "execution_count": 20,
   "metadata": {
    "dotnet_interactive": {
     "language": "csharp"
    },
    "vscode": {
     "languageId": "polyglot-notebook"
    }
   },
   "outputs": [],
   "source": [
    "List<GCProcessData> devenvChartData = gcTraceData.GetProcessGCData(processName: \"devenv\");\n",
    "GCProcessData devenvToInvestigate   = devenvChartData[0];\n",
    "List<TraceGC> devenvTraceGCs        = devenvToInvestigate.GCs;"
   ]
  },
  {
   "attachments": {},
   "cell_type": "markdown",
   "metadata": {},
   "source": [
    "#### Charting Single Series"
   ]
  },
  {
   "cell_type": "code",
   "execution_count": 21,
   "metadata": {
    "dotnet_interactive": {
     "language": "csharp"
    },
    "vscode": {
     "languageId": "polyglot-notebook"
    }
   },
   "outputs": [
    {
     "data": {
      "text/html": [
       "<!DOCTYPE html>\r\n",
       "<div style=\"width: 900px; height: 500px;\" id=\"08797024-ffb4-44cf-9823-139826a31298\"></div><script type=\"text/javascript\">\r\n",
       "\n",
       "var renderPlotly = function() {\n",
       "    var xplotRequire = require.config({context:'xplot-3.0.1',paths:{plotly:'https://cdn.plot.ly/plotly-1.49.2.min'}}) || require;\n",
       "    xplotRequire(['plotly'], function(Plotly) { \r\n",
       "\n",
       "            var data = [{\"type\":\"scatter\",\"showlegend\":true,\"x\":[5738.0,5739.0,5740.0,5741.0,5742.0,5743.0,5744.0,5745.0,5746.0,5747.0,5748.0,5749.0,5750.0,5751.0,5752.0,5753.0,5754.0,5755.0,5756.0,5757.0,5758.0],\"y\":[9.201399999998102,18.226299999998446,14.376399999997375,22.531600000002072,30.801400000000285,30.794000000001688,27.991000000001804,29.291799999999057,47.72819999999774,60.77090000000317,69.3747000000003,41.43029999999271,55.821400000015274,31.375700000004144,46.461100000014994,51.02799999999115,35.00930000000517,51.433099999965634,66.1823999999906,26.84689999994589,34.25709999992978],\"mode\":\"lines+markers\",\"name\":\"PauseDurationMSec\"}];\n",
       "           var layout = {\"title\":\"Pause Duration (MSec)\",\"xaxis\":{\"title\":\"Number\",\"_isSubplotObj\":true},\"yaxis\":{\"title\":\"PauseDurationMSec\",\"_isSubplotObj\":true}};\n",
       "           Plotly.newPlot('08797024-ffb4-44cf-9823-139826a31298', data, layout);\n",
       "        \r\n",
       "});\n",
       "};\r\n",
       "// ensure `require` is available globally\r\n",
       "if ((typeof(require) !==  typeof(Function)) || (typeof(require.config) !== typeof(Function))) {\r\n",
       "    let require_script = document.createElement('script');\r\n",
       "    require_script.setAttribute('src', 'https://cdnjs.cloudflare.com/ajax/libs/require.js/2.3.6/require.min.js');\r\n",
       "    require_script.setAttribute('type', 'text/javascript');\r\n",
       "    \r\n",
       "    \r\n",
       "    require_script.onload = function() {\r\n",
       "        renderPlotly();\r\n",
       "    };\r\n",
       "\r\n",
       "    document.getElementsByTagName('head')[0].appendChild(require_script);\r\n",
       "}\r\n",
       "else {\r\n",
       "    renderPlotly();\r\n",
       "}\r\n",
       "\r\n",
       "</script>\r\n"
      ]
     },
     "metadata": {},
     "output_type": "display_data"
    }
   ],
   "source": [
    "GCCharting.ChartGCData(gcs       : devenvTraceGCs, \n",
    "                       title     : \"Pause Duration (MSec)\", \n",
    "                       fieldName : nameof(TraceGC.PauseDurationMSec), \n",
    "                       xAxis     : nameof(TraceGC.Number))"
   ]
  },
  {
   "attachments": {},
   "cell_type": "markdown",
   "metadata": {},
   "source": [
    "#### Charting Single Series with Chart Info"
   ]
  },
  {
   "cell_type": "code",
   "execution_count": 22,
   "metadata": {
    "dotnet_interactive": {
     "language": "csharp"
    },
    "vscode": {
     "languageId": "polyglot-notebook"
    }
   },
   "outputs": [
    {
     "data": {
      "text/html": [
       "<!DOCTYPE html>\r\n",
       "<div style=\"width: 900px; height: 500px;\" id=\"7f991436-171a-45c2-af03-571d0d616fbf\"></div><script type=\"text/javascript\">\r\n",
       "\n",
       "var renderPlotly = function() {\n",
       "    var xplotRequire = require.config({context:'xplot-3.0.1',paths:{plotly:'https://cdn.plot.ly/plotly-1.49.2.min'}}) || require;\n",
       "    xplotRequire(['plotly'], function(Plotly) { \r\n",
       "\n",
       "            var data = [{\"type\":\"scatter\",\"showlegend\":true,\"x\":[5738.0,5739.0,5740.0,5741.0,5742.0,5743.0,5744.0,5745.0,5746.0,5747.0,5748.0,5749.0,5750.0,5751.0,5752.0,5753.0,5754.0,5755.0,5756.0,5757.0,5758.0],\"y\":[9.201399999998102,18.226299999998446,14.376399999997375,22.531600000002072,30.801400000000285,30.794000000001688,27.991000000001804,29.291799999999057,47.72819999999774,60.77090000000317,69.3747000000003,41.43029999999271,55.821400000015274,31.375700000004144,46.461100000014994,51.02799999999115,35.00930000000517,51.433099999965634,66.1823999999906,26.84689999994589,34.25709999992978],\"mode\":\"lines+markers\",\"name\":\"PauseDurationMSec\"}];\n",
       "           var layout = {\"title\":\"Pause Duration (MSec)\",\"width\":1000.0,\"height\":500.0,\"xaxis\":{\"title\":\"GC #\",\"_isSubplotObj\":true},\"yaxis\":{\"title\":\"MSec\",\"_isSubplotObj\":true}};\n",
       "           Plotly.newPlot('7f991436-171a-45c2-af03-571d0d616fbf', data, layout);\n",
       "        \r\n",
       "});\n",
       "};\r\n",
       "// ensure `require` is available globally\r\n",
       "if ((typeof(require) !==  typeof(Function)) || (typeof(require.config) !== typeof(Function))) {\r\n",
       "    let require_script = document.createElement('script');\r\n",
       "    require_script.setAttribute('src', 'https://cdnjs.cloudflare.com/ajax/libs/require.js/2.3.6/require.min.js');\r\n",
       "    require_script.setAttribute('type', 'text/javascript');\r\n",
       "    \r\n",
       "    \r\n",
       "    require_script.onload = function() {\r\n",
       "        renderPlotly();\r\n",
       "    };\r\n",
       "\r\n",
       "    document.getElementsByTagName('head')[0].appendChild(require_script);\r\n",
       "}\r\n",
       "else {\r\n",
       "    renderPlotly();\r\n",
       "}\r\n",
       "\r\n",
       "</script>\r\n"
      ]
     },
     "metadata": {},
     "output_type": "display_data"
    }
   ],
   "source": [
    "ChartInfo chartInfo = new ChartInfo\n",
    "{\n",
    "    YAxisLabel = \"MSec\",\n",
    "    XAxisLabel = \"GC #\",\n",
    "    Width = 1000,\n",
    "    Height = 500,\n",
    "};\n",
    "\n",
    "GCCharting.ChartGCData(gcs       : devenvTraceGCs, \n",
    "                       title     : \"Pause Duration (MSec)\", \n",
    "                       fieldName : nameof(TraceGC.PauseDurationMSec), \n",
    "                       xAxis     : nameof(TraceGC.Number),\n",
    "                       chartInfo : chartInfo)"
   ]
  },
  {
   "attachments": {},
   "cell_type": "markdown",
   "metadata": {},
   "source": [
    "#### Charting Multiple Series From One List of Trace GCs"
   ]
  },
  {
   "cell_type": "code",
   "execution_count": null,
   "metadata": {
    "dotnet_interactive": {
     "language": "csharp"
    },
    "vscode": {
     "languageId": "polyglot-notebook"
    }
   },
   "outputs": [],
   "source": [
    "GCCharting.ChartGCData(gcs        : devenvTraceGCs,\n",
    "                       title      : \"Pause Durations and Suspend Durations\",\n",
    "                       fields     : new [] { ( \"Pause Duration (MSec)\", nameof(TraceGC.PauseDurationMSec)),\n",
    "                                           ( \"Suspend Duration (MSec)\", nameof(TraceGC.SuspendDurationMSec)) },\n",
    "                       xAxis      : nameof(TraceGC.Number),\n",
    "                       chartInfo  : chartInfo)"
   ]
  },
  {
   "attachments": {},
   "cell_type": "markdown",
   "metadata": {},
   "source": [
    "#### Charting Multiple Series From Different Trace GCs"
   ]
  },
  {
   "attachments": {},
   "cell_type": "markdown",
   "metadata": {},
   "source": [
    "##### Non Relative GCs"
   ]
  },
  {
   "cell_type": "code",
   "execution_count": null,
   "metadata": {
    "dotnet_interactive": {
     "language": "csharp"
    },
    "vscode": {
     "languageId": "polyglot-notebook"
    }
   },
   "outputs": [],
   "source": [
    "GCProcessData otherDevenvToInvestigate = devenvChartData[1];\n",
    "List<TraceGC> devenvTraceGCsOther      = otherDevenvToInvestigate.GCs;\n",
    "\n",
    "List<(string scatterName, List<TraceGC> gcs)> gcData = \n",
    "    new()\n",
    "    {\n",
    "        { ( scatterName :  \"Devenv 0 - Pause Duration (MSec)\" , gcs : devenvTraceGCs )},\n",
    "        { ( scatterName :  \"Devenv 1 - Pause Duration (MSec)\" , gcs : devenvTraceGCsOther )}\n",
    "    };\n",
    "\n",
    "GCCharting.ChartGCData(gcData          : gcData, \n",
    "                       title           : \"Pause Duration Comparisons Between Devenvs\", \n",
    "                       isXAxisRelative : false,\n",
    "                       fieldName       : nameof(TraceGC.PauseDurationMSec))"
   ]
  },
  {
   "attachments": {},
   "cell_type": "markdown",
   "metadata": {},
   "source": [
    "##### Relative GCs"
   ]
  },
  {
   "cell_type": "code",
   "execution_count": null,
   "metadata": {
    "dotnet_interactive": {
     "language": "csharp"
    },
    "vscode": {
     "languageId": "polyglot-notebook"
    }
   },
   "outputs": [],
   "source": [
    "List<(string scatterName, List<TraceGC> gcs)> gcData = \n",
    "    new()\n",
    "    {\n",
    "        { ( scatterName :  \"Devenv 0 - Pause Duration (MSec)\" , gcs : devenvTraceGCs )},\n",
    "        { ( scatterName :  \"Devenv 1 - Pause Duration (MSec)\" , gcs : allDevenvs[1].GCs )}\n",
    "    };\n",
    "\n",
    "GCCharting.ChartGCData(gcData          : gcData, \n",
    "                       title           : \"Pause Duration Comparisons Between Devenvs\", \n",
    "                       fieldName       : nameof(TraceGC.PauseDurationMSec),\n",
    "                       isXAxisRelative : true,\n",
    "                       xAxis           : nameof(TraceGC.Number))"
   ]
  },
  {
   "attachments": {},
   "cell_type": "markdown",
   "metadata": {},
   "source": [
    "#### Charting Multiple Series With Filters"
   ]
  },
  {
   "cell_type": "code",
   "execution_count": null,
   "metadata": {
    "dotnet_interactive": {
     "language": "csharp"
    },
    "vscode": {
     "languageId": "polyglot-notebook"
    }
   },
   "outputs": [],
   "source": [
    "IEnumerable<(string, Func<TraceGC, bool>)> filters = new (string, Func<TraceGC, bool>)[] \n",
    "{\n",
    "    (\"Generation0\", (TraceGC gc) => gc.Generation == 0),\n",
    "    (\"Generation1\", (TraceGC gc) => gc.Generation == 1),\n",
    "};\n",
    "\n",
    "GCCharting.ChartGCData(gcs       : devenvTraceGCs, \n",
    "                       title     : \"Per Generation Pause Duration (MSec)\", \n",
    "                       fieldName : nameof(TraceGC.PauseDurationMSec), \n",
    "                       filters   : filters)"
   ]
  },
  {
   "attachments": {},
   "cell_type": "markdown",
   "metadata": {},
   "source": [
    "#### Charting Custom Objects"
   ]
  },
  {
   "cell_type": "code",
   "execution_count": null,
   "metadata": {
    "dotnet_interactive": {
     "language": "csharp"
    },
    "vscode": {
     "languageId": "polyglot-notebook"
    }
   },
   "outputs": [],
   "source": [
    "class CustomType\n",
    "{\n",
    "    public double Value0;\n",
    "    public double Value1;\n",
    "    public int Index;\n",
    "}\n",
    "\n",
    "var NUM_GCs = 5;\n",
    "\n",
    "CustomType[] customTypes = new CustomType[NUM_GCs];\n",
    "for(int customTypeIdx = 0; customTypeIdx < customTypes.Length; customTypeIdx++)\n",
    "{\n",
    "    customTypes[customTypeIdx] = new CustomType();\n",
    "    var gc = devenvTraceGCs[customTypeIdx];\n",
    "\n",
    "    customTypes[customTypeIdx].Value0 = gc.HeapSizeAfterMB; \n",
    "    customTypes[customTypeIdx].Value1 = gc.HeapSizeBeforeMB;\n",
    "    customTypes[customTypeIdx].Index  = customTypeIdx;\n",
    "}\n",
    "\n",
    "GCCharting.ChartGCData(gcData : customTypes, \n",
    "                       title  : \"Charting Custom Data\",\n",
    "                       fields : new [] { ( \"Value0\", nameof(CustomType.Value0) ), \n",
    "                                       ( \"Value1\", nameof(CustomType.Value1) )},\n",
    "                       xAxis  : nameof(CustomType.Index))"
   ]
  },
  {
   "attachments": {},
   "cell_type": "markdown",
   "metadata": {},
   "source": [
    "## Debugging"
   ]
  },
  {
   "cell_type": "code",
   "execution_count": null,
   "metadata": {
    "dotnet_interactive": {
     "language": "csharp"
    },
    "vscode": {
     "languageId": "polyglot-notebook"
    }
   },
   "outputs": [],
   "source": [
    "Console.WriteLine($\"Current Process ID: {System.Diagnostics.Process.GetCurrentProcess().Id}\");\n",
    "\n",
    "#!about"
   ]
  }
 ],
 "metadata": {
  "kernelspec": {
   "display_name": ".NET (C#)",
   "language": "C#",
   "name": ".net-csharp"
  },
  "language_info": {
   "file_extension": ".cs",
   "mimetype": "text/x-csharp",
   "name": "C#",
   "pygments_lexer": "csharp",
   "version": "9.0"
  },
  "orig_nbformat": 4
 },
 "nbformat": 4,
 "nbformat_minor": 2
}
