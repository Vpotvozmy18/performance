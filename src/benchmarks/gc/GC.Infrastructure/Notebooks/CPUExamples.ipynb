{
 "cells": [
  {
   "cell_type": "markdown",
   "metadata": {},
   "source": [
    "# Usage of GC.Analysis.API for CPU Analysis "
   ]
  },
  {
   "cell_type": "code",
   "execution_count": null,
   "metadata": {
    "dotnet_interactive": {
     "language": "csharp"
    },
    "vscode": {
     "languageId": "polyglot-notebook"
    }
   },
   "outputs": [],
   "source": [
    "#r \"nuget: Microsoft.Diagnostics.Tracing.TraceEvent\"\n",
    "#r \"nuget: XPlot.Plotly\"\n",
    "#r \"nuget: XPlot.Plotly.Interactive\"\n",
    "#r \"nuget: Microsoft.Data.Analysis\"\n",
    "#r \"nuget: Newtonsoft.Json\"\n",
    "#r \"nuget: YamlDotNet\"\n",
    "#r \"nuget: Microsoft.Playwright, 1.16.0\"\n",
    "\n",
    "using Etlx = Microsoft.Diagnostics.Tracing.Etlx;\n",
    "using Microsoft.Data.Analysis;\n",
    "using Microsoft.Diagnostics.Tracing.Analysis.GC;\n",
    "using Microsoft.Diagnostics.Tracing.Analysis;\n",
    "using Microsoft.Diagnostics.Tracing.Parsers.Clr;\n",
    "using Microsoft.Diagnostics.Tracing;\n",
    "using XPlot.Plotly;\n",
    "\n",
    "using System.IO;\n",
    "using Newtonsoft.Json;"
   ]
  },
  {
   "cell_type": "markdown",
   "metadata": {},
   "source": [
    "## Building and Using The GC Analysis API"
   ]
  },
  {
   "cell_type": "code",
   "execution_count": null,
   "metadata": {
    "dotnet_interactive": {
     "language": "pwsh"
    },
    "vscode": {
     "languageId": "polyglot-notebook"
    }
   },
   "outputs": [],
   "source": [
    "dotnet build .\\GC.Analysis.API"
   ]
  },
  {
   "cell_type": "code",
   "execution_count": null,
   "metadata": {
    "dotnet_interactive": {
     "language": "csharp"
    },
    "vscode": {
     "languageId": "polyglot-notebook"
    }
   },
   "outputs": [],
   "source": [
    "#r \"./GC.Analysis.API/bin/Debug/net6.0/GC.Analysis.API.dll\"\n",
    "\n",
    "using GC.Analysis.API;"
   ]
  },
  {
   "cell_type": "markdown",
   "metadata": {},
   "source": [
    "## Creating the Analyzer"
   ]
  },
  {
   "cell_type": "code",
   "execution_count": null,
   "metadata": {
    "dotnet_interactive": {
     "language": "csharp"
    },
    "vscode": {
     "languageId": "polyglot-notebook"
    }
   },
   "outputs": [],
   "source": [
    "var SEGMENTS_TRACE_PATH = @\"\";\n",
    "var REGIONS_TRACE_PATH  = @\"\";"
   ]
  },
  {
   "cell_type": "code",
   "execution_count": null,
   "metadata": {
    "dotnet_interactive": {
     "language": "csharp"
    },
    "vscode": {
     "languageId": "polyglot-notebook"
    }
   },
   "outputs": [],
   "source": [
    "Analyzer segmentsAnalyzer = new Analyzer(tracePath: SEGMENTS_TRACE_PATH, processNames: new HashSet<string> { \"\" });"
   ]
  },
  {
   "cell_type": "code",
   "execution_count": null,
   "metadata": {
    "dotnet_interactive": {
     "language": "csharp"
    },
    "vscode": {
     "languageId": "polyglot-notebook"
    }
   },
   "outputs": [],
   "source": [
    "Analyzer regionsAnalyzer = new Analyzer(tracePath: REGIONS_TRACE_PATH, processNames: new HashSet<string> { \"\" });"
   ]
  },
  {
   "cell_type": "markdown",
   "metadata": {},
   "source": [
    "## Summarization"
   ]
  },
  {
   "cell_type": "code",
   "execution_count": null,
   "metadata": {
    "dotnet_interactive": {
     "language": "csharp"
    },
    "vscode": {
     "languageId": "polyglot-notebook"
    }
   },
   "outputs": [],
   "source": [
    "segmentsAnalyzer.SummarizeTrace(processName: \"\")"
   ]
  },
  {
   "cell_type": "code",
   "execution_count": null,
   "metadata": {
    "dotnet_interactive": {
     "language": "csharp"
    },
    "vscode": {
     "languageId": "polyglot-notebook"
    }
   },
   "outputs": [],
   "source": [
    "regionsAnalyzer.SummarizeTrace(processName: \"\")"
   ]
  },
  {
   "cell_type": "code",
   "execution_count": null,
   "metadata": {
    "dotnet_interactive": {
     "language": "csharp"
    },
    "vscode": {
     "languageId": "polyglot-notebook"
    }
   },
   "outputs": [],
   "source": [
    "segmentsAnalyzer.GetProcessGCData(\"\").Single().Compare(new[] { regionsAnalyzer.GetProcessGCData(\"\").Single() })"
   ]
  },
  {
   "cell_type": "markdown",
   "metadata": {},
   "source": [
    "## CPU Analysis"
   ]
  },
  {
   "cell_type": "markdown",
   "metadata": {},
   "source": [
    "### Creating the CPU Analysis"
   ]
  },
  {
   "cell_type": "code",
   "execution_count": null,
   "metadata": {
    "dotnet_interactive": {
     "language": "csharp"
    },
    "vscode": {
     "languageId": "polyglot-notebook"
    }
   },
   "outputs": [],
   "source": [
    "segmentsAnalyzer.AddCPUAnalysis()"
   ]
  },
  {
   "cell_type": "code",
   "execution_count": null,
   "metadata": {
    "dotnet_interactive": {
     "language": "csharp"
    },
    "vscode": {
     "languageId": "polyglot-notebook"
    }
   },
   "outputs": [],
   "source": [
    "string segmentsSerialized = JsonConvert.SerializeObject(segmentsAnalyzer.CPUAnalyzer.GetCPUDataForProcessName(\"\").First());\n",
    "CPUProcessData segmentsCPUData = segmentsAnalyzer.CPUAnalyzer.GetCPUDataForProcessName(\"\").Single();"
   ]
  },
  {
   "cell_type": "code",
   "execution_count": null,
   "metadata": {
    "dotnet_interactive": {
     "language": "csharp"
    },
    "vscode": {
     "languageId": "polyglot-notebook"
    }
   },
   "outputs": [],
   "source": [
    "regionsAnalyzer.AddCPUAnalysis(symbolPath: @\"\");\n",
    "CPUProcessData regionsCPUData = regionsAnalyzer.CPUAnalyzer.GetCPUDataForProcessName(\"\").Single();"
   ]
  },
  {
   "cell_type": "markdown",
   "metadata": {},
   "source": [
    "### Summarization"
   ]
  },
  {
   "cell_type": "markdown",
   "metadata": {},
   "source": [
    "#### Major GC Phase Summarization"
   ]
  },
  {
   "cell_type": "code",
   "execution_count": null,
   "metadata": {
    "dotnet_interactive": {
     "language": "csharp"
    },
    "vscode": {
     "languageId": "polyglot-notebook"
    }
   },
   "outputs": [],
   "source": [
    "segmentsCPUData.GetPerPhaseSummary()"
   ]
  },
  {
   "cell_type": "code",
   "execution_count": null,
   "metadata": {
    "dotnet_interactive": {
     "language": "csharp"
    },
    "vscode": {
     "languageId": "polyglot-notebook"
    }
   },
   "outputs": [],
   "source": [
    "regionsCPUData.GetPerPhaseSummary()"
   ]
  },
  {
   "cell_type": "code",
   "execution_count": null,
   "metadata": {
    "dotnet_interactive": {
     "language": "csharp"
    },
    "vscode": {
     "languageId": "polyglot-notebook"
    }
   },
   "outputs": [],
   "source": [
    "segmentsCPUData.Compare(new [] { regionsCPUData })"
   ]
  },
  {
   "cell_type": "markdown",
   "metadata": {},
   "source": [
    "#### Summarization By GC Type and Generation"
   ]
  },
  {
   "cell_type": "code",
   "execution_count": null,
   "metadata": {
    "dotnet_interactive": {
     "language": "csharp"
    },
    "vscode": {
     "languageId": "polyglot-notebook"
    }
   },
   "outputs": [],
   "source": [
    "segmentsCPUData.GetPerGenerationSummary() // TODO: Check where the background phases went. BGC count - attribution."
   ]
  },
  {
   "cell_type": "markdown",
   "metadata": {},
   "source": [
    "#### Aux Methods"
   ]
  },
  {
   "cell_type": "code",
   "execution_count": null,
   "metadata": {
    "dotnet_interactive": {
     "language": "csharp"
    },
    "vscode": {
     "languageId": "polyglot-notebook"
    }
   },
   "outputs": [],
   "source": [
    "segmentsCPUData.GetPerGCMethodCost(\"gc_heap::mark_phase\").Select(gc => ( gc.GC.Number, gc.Count ))"
   ]
  },
  {
   "cell_type": "code",
   "execution_count": null,
   "metadata": {
    "dotnet_interactive": {
     "language": "csharp"
    },
    "vscode": {
     "languageId": "polyglot-notebook"
    }
   },
   "outputs": [],
   "source": [
    "segmentsCPUData.GetPerGCMethodCost(methodName: \"gc_heap::mark_through_cards_for_segments\", \n",
    "                                   caller: \"gc_heap::relocate_phase\").Select(gc => (gc.GC.Number, gc.Count))"
   ]
  },
  {
   "cell_type": "markdown",
   "metadata": {},
   "source": [
    "### Charting"
   ]
  },
  {
   "cell_type": "markdown",
   "metadata": {},
   "source": [
    "#### Charting Counts For a Single GC Method"
   ]
  },
  {
   "cell_type": "markdown",
   "metadata": {},
   "source": [
    "##### Charting Counts For a Single GC Method Using A Sorted Dictionary "
   ]
  },
  {
   "cell_type": "code",
   "execution_count": null,
   "metadata": {
    "dotnet_interactive": {
     "language": "csharp"
    },
    "vscode": {
     "languageId": "polyglot-notebook"
    }
   },
   "outputs": [],
   "source": [
    "(string, List<CPUInfo>) data = \n",
    "    (\"gc_heap::mark_phase\", segmentsCPUData.GetPerGCMethodCost(\"gc_heap::mark_phase\"));\n",
    "\n",
    "CPUCharting.ChartCountForGCMethod(data, \"Mark Phase Data\")"
   ]
  },
  {
   "cell_type": "markdown",
   "metadata": {},
   "source": [
    "##### Charting Counts For a Single Method GC Using CPU Process Data"
   ]
  },
  {
   "cell_type": "code",
   "execution_count": null,
   "metadata": {
    "dotnet_interactive": {
     "language": "csharp"
    },
    "vscode": {
     "languageId": "polyglot-notebook"
    }
   },
   "outputs": [],
   "source": [
    "// With Inclusive Count.\n",
    "segmentsCPUData.ChartCountForGCMethod(methodName: \"gc_heap::plan_phase\", title: \"Plan Phase\")"
   ]
  },
  {
   "cell_type": "code",
   "execution_count": null,
   "metadata": {
    "dotnet_interactive": {
     "language": "csharp"
    },
    "vscode": {
     "languageId": "polyglot-notebook"
    }
   },
   "outputs": [],
   "source": [
    "// With Exclusive Count.\n",
    "segmentsCPUData.ChartCountForGCMethod(methodName: \"gc_heap::plan_phase\", title: \"Plan Phase - Exclusive Count\", isInclusiveCount: false)"
   ]
  },
  {
   "cell_type": "markdown",
   "metadata": {},
   "source": [
    "### Charting Counts For a Single GC Method With Caller"
   ]
  },
  {
   "cell_type": "code",
   "execution_count": null,
   "metadata": {
    "dotnet_interactive": {
     "language": "csharp"
    },
    "vscode": {
     "languageId": "polyglot-notebook"
    }
   },
   "outputs": [],
   "source": [
    "segmentsCPUData.ChartCountForGCMethod(methodName: \"gc_heap::mark_through_cards_for_segments\", \n",
    "                                      title: \"Inc. cost of mark_through_cards_for_segments for the Mark Phase\", \n",
    "                                      caller: \"gc_heap::mark_phase\")"
   ]
  },
  {
   "cell_type": "code",
   "execution_count": null,
   "metadata": {
    "dotnet_interactive": {
     "language": "csharp"
    },
    "vscode": {
     "languageId": "polyglot-notebook"
    }
   },
   "outputs": [],
   "source": [
    "segmentsCPUData.ChartCountForGCMethod(methodName: \"gc_heap::mark_through_cards_for_segments\", \n",
    "                                      title: \"Inc. cost of mark_through_cards_for_segments for the Relocate Phase\", \n",
    "                                      caller: \"gc_heap::relocate_phase\")"
   ]
  },
  {
   "cell_type": "markdown",
   "metadata": {},
   "source": [
    "#### Charting Counts For Multiple GC Methods"
   ]
  },
  {
   "cell_type": "markdown",
   "metadata": {},
   "source": [
    "##### Charting Counts For Multiple GC Methods Using A List"
   ]
  },
  {
   "cell_type": "code",
   "execution_count": null,
   "metadata": {
    "dotnet_interactive": {
     "language": "csharp"
    },
    "vscode": {
     "languageId": "polyglot-notebook"
    }
   },
   "outputs": [],
   "source": [
    "(string, List<CPUInfo>) markPhaseData = \n",
    "    (\"gc_heap::mark_phase\", segmentsCPUData.GetPerGCMethodCost(\"gc_heap::mark_phase\"));\n",
    "\n",
    "(string, List<CPUInfo>) planPhaseData = \n",
    "    (\"gc_heap::plan_phase\", segmentsCPUData.GetPerGCMethodCost(\"gc_heap::plan_phase\"));\n",
    "\n",
    "(string, List<CPUInfo>) relocate_phase = \n",
    "    (\"gc_heap::relocate_phase\", segmentsCPUData.GetPerGCMethodCost(\"gc_heap::relocate_phase\"));\n",
    "\n",
    "CPUCharting.ChartCountForGCMethods(new [] { markPhaseData, planPhaseData, relocate_phase }, \"Custom Phase Data\")"
   ]
  },
  {
   "cell_type": "code",
   "execution_count": null,
   "metadata": {
    "dotnet_interactive": {
     "language": "csharp"
    },
    "vscode": {
     "languageId": "polyglot-notebook"
    }
   },
   "outputs": [],
   "source": [
    "// TODO: Add Filter Example instead of GCs.\n",
    "\n",
    "(string, List<CPUInfo>) markPhaseData = \n",
    "    (\"gc_heap::mark_phase\", segmentsCPUData.GetPerGCMethodCost(methodName: \"gc_heap::mark_phase\", gcsToConsider: new HashSet<int>{ 196, 200 }));\n",
    "\n",
    "(string, List<CPUInfo>) planPhaseData = \n",
    "    (\"gc_heap::plan_phase\", segmentsCPUData.GetPerGCMethodCost(methodName: \"gc_heap::plan_phase\", gcsToConsider: new HashSet<int> { 196, 200 }) );\n",
    "\n",
    "CPUCharting.ChartCountForGCMethods(new [] { markPhaseData, planPhaseData }, \"Custom Phase Data\")"
   ]
  },
  {
   "cell_type": "markdown",
   "metadata": {},
   "source": [
    "##### Charting Counts For The Same Phase Between For Different Traces"
   ]
  },
  {
   "cell_type": "code",
   "execution_count": null,
   "metadata": {
    "dotnet_interactive": {
     "language": "csharp"
    },
    "vscode": {
     "languageId": "polyglot-notebook"
    }
   },
   "outputs": [],
   "source": [
    "(string, List<CPUInfo>) markPhaseData = \n",
    "    (\"gc_heap::mark_phase - Segments\", segmentsCPUData.GetPerGCMethodCost(methodName: \"gc_heap::mark_phase\"));\n",
    "\n",
    "(string, List<CPUInfo>) planPhaseData = \n",
    "    (\"gc_heap::plan_phase - Regions\", regionsCPUData.GetPerGCMethodCost(methodName: \"gc_heap::mark_phase\"));\n",
    "\n",
    "CPUCharting.ChartCountForGCMethods(new [] { markPhaseData, planPhaseData }, \"Mark Phase: Segments vs. Regions\")"
   ]
  },
  {
   "cell_type": "markdown",
   "metadata": {},
   "source": [
    "##### Charting Counts For Multiple GC Methods Using CPU Process Data"
   ]
  },
  {
   "cell_type": "code",
   "execution_count": null,
   "metadata": {
    "dotnet_interactive": {
     "language": "csharp"
    },
    "vscode": {
     "languageId": "polyglot-notebook"
    }
   },
   "outputs": [],
   "source": [
    "segmentsCPUData.ChartCountForGCMethods(methodNames: new [] { \"gc_heap::mark_phase\", \"gc_heap::plan_phase\", \"gc_heap::relocate_phase\", \"gc_heap::compact_phase\" }, \n",
    "                                 title: \"Major GC Phases\")"
   ]
  },
  {
   "cell_type": "markdown",
   "metadata": {},
   "source": [
    "#### Charting GC Data With CPU Data"
   ]
  },
  {
   "cell_type": "code",
   "execution_count": null,
   "metadata": {
    "dotnet_interactive": {
     "language": "csharp"
    },
    "vscode": {
     "languageId": "polyglot-notebook"
    }
   },
   "outputs": [],
   "source": [
    "GCProcessData processData = segmentsAnalyzer.GetProcessGCData(\"\").Single();"
   ]
  },
  {
   "cell_type": "code",
   "execution_count": null,
   "metadata": {
    "dotnet_interactive": {
     "language": "csharp"
    },
    "vscode": {
     "languageId": "polyglot-notebook"
    }
   },
   "outputs": [],
   "source": [
    "(string, List<CPUInfo>) cpuData = (\"Mark Phase\", segmentsCPUData.GetPerGCMethodCost(\"gc_heap::mark_phase\"));\n",
    "(string, List<double>) gcData  = (\"Msec\", processData.GCs.Select(gc => gc.PauseDurationMSec));\n",
    "CPUCharting.ChartCountForGCMethodWithGCData(cpuData, gcData, \"Mark Phase Inc. Count vs. Pause Duration (MSec)\")"
   ]
  },
  {
   "cell_type": "markdown",
   "metadata": {},
   "source": [
    "### Generic Charting"
   ]
  },
  {
   "cell_type": "code",
   "execution_count": null,
   "metadata": {
    "dotnet_interactive": {
     "language": "csharp"
    },
    "vscode": {
     "languageId": "polyglot-notebook"
    }
   },
   "outputs": [],
   "source": [
    "(string, List<CPUInfo>) markPhaseData = \n",
    "    (\"gc_heap::mark_phase\", segmentsCPUData.GetPerGCMethodCost(methodName: \"gc_heap::mark_phase\"));\n",
    "\n",
    "bool Gen0Filter(CPUInfo cpuInfo)\n",
    "{\n",
    "    return cpuInfo.GC.Generation == 0;\n",
    "}\n",
    "\n",
    "bool Gen0Filter(TraceGC gc)\n",
    "{\n",
    "    return gc.Generation == 0;\n",
    "}\n",
    "\n",
    "List<CPUInfo> filteredGen0CPUData = markPhaseData.Item2.Where(Gen0Filter);\n",
    "List<TraceGC> traceGC = processData.GCs.Where(Gen0Filter);\n",
    "\n",
    "GCCharting.ChartGCData(\"Mark Phase Inc. Count Per GC\", \n",
    "                       new AxisInfo \n",
    "                       { \n",
    "                           Name = \"Mark Phase Inc\", \n",
    "                           XAxis = traceGC.Select(gc => (double)gc.Number), \n",
    "                           YAxis = filteredGen0CPUData.Select(gc => (double)gc.Count) \n",
    "                       })"
   ]
  },
  {
   "cell_type": "markdown",
   "metadata": {},
   "source": [
    "### Mark Phase Analysis"
   ]
  },
  {
   "cell_type": "markdown",
   "metadata": {},
   "source": [
    "#### Chart Per Generation and Type "
   ]
  },
  {
   "cell_type": "code",
   "execution_count": null,
   "metadata": {
    "dotnet_interactive": {
     "language": "csharp"
    },
    "vscode": {
     "languageId": "polyglot-notebook"
    }
   },
   "outputs": [],
   "source": [
    "processData.ChartStatisticsOfMarkPhaseByType(generation: 0, type: MarkRootType.MarkStack)"
   ]
  },
  {
   "cell_type": "markdown",
   "metadata": {},
   "source": [
    "#### Chart All Mark Root Types For a Generation "
   ]
  },
  {
   "cell_type": "code",
   "execution_count": null,
   "metadata": {
    "dotnet_interactive": {
     "language": "csharp"
    },
    "vscode": {
     "languageId": "polyglot-notebook"
    }
   },
   "outputs": [],
   "source": [
    "processData.ChartAverageMarkPhaseTimeByMarkType(generation: 0, types: new [] { MarkRootType.MarkStack, MarkRootType.MarkHandles, MarkRootType.MarkOlder })"
   ]
  },
  {
   "cell_type": "markdown",
   "metadata": {},
   "source": [
    "## Source Code Analysis"
   ]
  },
  {
   "cell_type": "code",
   "execution_count": null,
   "metadata": {
    "dotnet_interactive": {
     "language": "csharp"
    },
    "vscode": {
     "languageId": "polyglot-notebook"
    }
   },
   "outputs": [],
   "source": [
    "var BASE_PATH = @\"\";\n",
    "Analyzer analyzer = new Analyzer(tracePath: BASE_PATH, processNames: new HashSet<string> { \"\" });"
   ]
  },
  {
   "cell_type": "code",
   "execution_count": null,
   "metadata": {
    "dotnet_interactive": {
     "language": "csharp"
    },
    "vscode": {
     "languageId": "polyglot-notebook"
    }
   },
   "outputs": [],
   "source": [
    "analyzer.AddCPUAnalysis(symbolPath : BASE_PATH);"
   ]
  },
  {
   "cell_type": "code",
   "execution_count": null,
   "metadata": {
    "dotnet_interactive": {
     "language": "csharp"
    },
    "vscode": {
     "languageId": "polyglot-notebook"
    }
   },
   "outputs": [],
   "source": [
    "CPUProcessData cpuAnalyzer = analyzer.CPUAnalyzer.GetCPUDataForProcessName(\"\").Single();"
   ]
  },
  {
   "cell_type": "code",
   "execution_count": null,
   "metadata": {
    "dotnet_interactive": {
     "language": "csharp"
    },
    "vscode": {
     "languageId": "polyglot-notebook"
    }
   },
   "outputs": [],
   "source": [
    "cpuAnalyzer.SetSourcePath(BASE_PATH);\n",
    "cpuAnalyzer.Annotate(\"gc_heap::garbage_collect\")"
   ]
  },
  {
   "cell_type": "markdown",
   "metadata": {},
   "source": [
    "## Affinitized CPU Analysis"
   ]
  },
  {
   "cell_type": "code",
   "execution_count": null,
   "metadata": {
    "dotnet_interactive": {
     "language": "csharp"
    },
    "vscode": {
     "languageId": "polyglot-notebook"
    }
   },
   "outputs": [],
   "source": [
    "var gcData = analyzer.GetProcessGCData(\"\").Single();"
   ]
  },
  {
   "cell_type": "markdown",
   "metadata": {},
   "source": [
    "### Summary"
   ]
  },
  {
   "cell_type": "code",
   "execution_count": null,
   "metadata": {
    "dotnet_interactive": {
     "language": "csharp"
    },
    "vscode": {
     "languageId": "polyglot-notebook"
    }
   },
   "outputs": [],
   "source": [
    "Dictionary<string, AffinitizedCPUData> get_stats_gcs_with_large_diff(List<TraceGC> gcs, double threshold)\n",
    "{\n",
    "    // Per process name affinitized cpu data.\n",
    "    Dictionary<string, AffinitizedCPUData> data = new();\n",
    "\n",
    "    for(int i = 0; i < gcs.Count; i++)\n",
    "    {\n",
    "        double diff_between_suspend_ee_stop_and_gc_start = gcs[i].StartRelativeMSec - (gcs[i].PauseStartRelativeMSec + gcs[i].SuspendDurationMSec);\n",
    "        if (diff_between_suspend_ee_stop_and_gc_start > threshold)\n",
    "        {\n",
    "            // Processor -> < ProcessID, AffinitizedCPUData >\n",
    "            Dictionary<int, Dictionary<int, AffinitizedCPUData>> affinitizedAnalysis = gcData.GetAffinitizedAnalysis(gcs[i].PauseStartRelativeMSec + gcs[i].SuspendDurationMSec, gcs[i].StartRelativeMSec);\n",
    "            foreach(var processor in affinitizedAnalysis)\n",
    "            {\n",
    "                foreach(var process in processor.Value)\n",
    "                {\n",
    "                    if (!data.TryGetValue(process.Value.Name, out var affinitizedCPUData))\n",
    "                    {\n",
    "                        data[process.Value.Name] = affinitizedCPUData = new AffinitizedCPUData\n",
    "                        {\n",
    "                            Name = process.Value.Name,\n",
    "                            ProcessorNumber = -1, // All processors\n",
    "                        };\n",
    "                    }\n",
    "\n",
    "                    affinitizedCPUData.NumberOfSamples += process.Value.NumberOfSamples;\n",
    "                }\n",
    "            }\n",
    "        }\n",
    "    }\n",
    "\n",
    "    return data;\n",
    "}\n",
    "\n",
    "Dictionary<string, AffinitizedCPUData> stats = get_stats_gcs_with_large_diff(gcData.GCs, 8);"
   ]
  },
  {
   "cell_type": "markdown",
   "metadata": {},
   "source": [
    "#### Number of Samples"
   ]
  },
  {
   "cell_type": "code",
   "execution_count": null,
   "metadata": {
    "dotnet_interactive": {
     "language": "csharp"
    },
    "vscode": {
     "languageId": "polyglot-notebook"
    }
   },
   "outputs": [],
   "source": [
    "float total_number_of_samples_from_non_gc_threads = 0;\n",
    "float total_number_of_samples_from_gc_threads = 0;\n",
    "\n",
    "foreach(var process_data in stats)\n",
    "{\n",
    "    if (process_data.Key != \"GC Thread\")\n",
    "    {\n",
    "        total_number_of_samples_from_non_gc_threads += process_data.Value.NumberOfSamples;\n",
    "    }\n",
    "\n",
    "    else\n",
    "    {\n",
    "        total_number_of_samples_from_gc_threads += process_data.Value.NumberOfSamples;\n",
    "    }\n",
    "}\n",
    "\n",
    "Console.WriteLine($\"Number of Samples from Threads >= GC Thread Priority of 14: {total_number_of_samples_from_non_gc_threads}\");\n",
    "Console.WriteLine($\"Number of Samples from GC Threads : {total_number_of_samples_from_gc_threads}\");"
   ]
  },
  {
   "cell_type": "markdown",
   "metadata": {},
   "source": [
    "#### Per Process Summarization"
   ]
  },
  {
   "cell_type": "code",
   "execution_count": null,
   "metadata": {
    "dotnet_interactive": {
     "language": "csharp"
    },
    "vscode": {
     "languageId": "polyglot-notebook"
    }
   },
   "outputs": [],
   "source": [
    "// Get total samples\n",
    "\n",
    "float total_samples = 0;\n",
    "foreach (var process_data in stats)\n",
    "{\n",
    "    total_samples += process_data.Value.NumberOfSamples;\n",
    "}\n",
    "\n",
    "StringDataFrameColumn process_name = new(\"Process Name\");\n",
    "DoubleDataFrameColumn number_of_samples = new(\"Number of Samples\");\n",
    "DoubleDataFrameColumn percentage_of_samples = new(\"% of Samples\");\n",
    "\n",
    "foreach (var process_data in stats)\n",
    "{\n",
    "    process_name.Append(process_data.Key);\n",
    "    number_of_samples.Append(process_data.Value.NumberOfSamples);\n",
    "    percentage_of_samples.Append(Math.Round(process_data.Value.NumberOfSamples / total_samples * 100, 2));\n",
    "    Console.WriteLine($\"For: {process_data.Key}, Number of Samples: {process_data.Value.NumberOfSamples}, % of Samples: {Math.Round((process_data.Value.NumberOfSamples / total_samples) * 100, 2)}%\");\n",
    "}\n",
    "\n",
    "var df = new DataFrame(process_name, number_of_samples, percentage_of_samples);"
   ]
  },
  {
   "cell_type": "markdown",
   "metadata": {},
   "source": [
    "#### Save Results To Markdown "
   ]
  },
  {
   "cell_type": "code",
   "execution_count": null,
   "metadata": {
    "dotnet_interactive": {
     "language": "csharp"
    },
    "vscode": {
     "languageId": "polyglot-notebook"
    }
   },
   "outputs": [],
   "source": [
    "df.Display();\n",
    "df.ToMarkdown(\"./AffinitizedResults.md\");"
   ]
  },
  {
   "cell_type": "markdown",
   "metadata": {},
   "source": [
    "## Debugging"
   ]
  },
  {
   "cell_type": "code",
   "execution_count": null,
   "metadata": {
    "dotnet_interactive": {
     "language": "csharp"
    },
    "vscode": {
     "languageId": "polyglot-notebook"
    }
   },
   "outputs": [],
   "source": [
    "Console.WriteLine($\"Current Process ID: {System.Diagnostics.Process.GetCurrentProcess().Id}\");\n",
    "\n",
    "#!about"
   ]
  }
 ],
 "metadata": {
  "kernelspec": {
   "display_name": ".NET (C#)",
   "language": "C#",
   "name": ".net-csharp"
  },
  "language_info": {
   "file_extension": ".cs",
   "mimetype": "text/x-csharp",
   "name": "C#",
   "pygments_lexer": "csharp",
   "version": "9.0"
  },
  "orig_nbformat": 4
 },
 "nbformat": 4,
 "nbformat_minor": 2
}
